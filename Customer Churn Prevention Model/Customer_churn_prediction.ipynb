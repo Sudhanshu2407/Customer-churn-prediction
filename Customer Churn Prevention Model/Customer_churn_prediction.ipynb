{
 "cells": [
  {
   "cell_type": "markdown",
   "id": "34242a7d-b029-4a53-9193-1ed3acd90626",
   "metadata": {},
   "source": [
    "##### ---------------------------------------------------------------------\n",
    "### Description of project:\n",
    "\n",
    "#####  As in this project,we predict the customer churn,which means to predict whether the customer leaves the company or not.\n",
    "\n",
    "##### Here we use the customerId and surname of the customer.\n",
    "\n",
    "##### Here we use different parameter such as credit score of the customer,tenure of the customer in the company.\n",
    "\n",
    "##### Here we also the parameter as geography means the location of the customer,customer gender whether it is male or female.\n",
    "\n",
    "##### Here we also use the age of the customer, balance of the customer.\n",
    "\n",
    "##### Here we use the numberofproducts column,which defines how many products customer buy.\n",
    "\n",
    "##### Here we use hascrcard column,which defines whether the customer has the credit card or not.\n",
    "\n",
    "##### Here we use isactivemember column,which defines whether the customer is active or not.\n",
    "\n",
    "##### Here we use estimated salary column,which defines the salary of the customer."
   ]
  },
  {
   "cell_type": "markdown",
   "id": "b964bbb1-ca31-45d4-8b10-c9e29479caf9",
   "metadata": {},
   "source": [
    "##### --------------------------------------------------------------------------------\n",
    "### Firstly we import all the important libraries."
   ]
  },
  {
   "cell_type": "code",
   "execution_count": 1,
   "id": "ac222852-fdd5-408b-b5ca-ae9658b19bda",
   "metadata": {},
   "outputs": [],
   "source": [
    "#Here we import the libraries required for project.\n",
    "\n",
    "#Linear Algebra library.\n",
    "import numpy as np\n",
    "\n",
    "#Data processing library(for I/O and Buffer)\n",
    "import pandas as pd\n",
    "\n",
    "#Data Visualization library.\n",
    "import matplotlib.pyplot as plt\n",
    "\n",
    "#Statistics visualization library.\n",
    "import seaborn as sns\n",
    "\n",
    "#Data Preprocessing library(Labelencoder-->encoding to 0/1,standardscaler-->Scaling data to -3 to +3,OneHotEncoder-->Also do the encoding.\n",
    "from sklearn.preprocessing import LabelEncoder,StandardScaler,OneHotEncoder\n",
    "\n",
    "#Data splitting and cross validation library.\n",
    "from sklearn.model_selection import train_test_split,cross_val_score\n",
    "\n",
    "#Pipelining library(make the transformation easy)\n",
    "from sklearn.compose import ColumnTransformer\n",
    "\n",
    "#Logistic Regression library.\n",
    "from sklearn.linear_model import LogisticRegression\n",
    "\n",
    "#Support Vector Classifier library.\n",
    "from sklearn.svm import SVC\n",
    "\n",
    "#K nearest neighbour classifier library.\n",
    "from sklearn.neighbors import KNeighborsClassifier\n",
    "\n",
    "#Naive Bayes classifier library(GaussianNB -->Gaussian Naive Bayes,BernoulliNB -->Bernoulli Naive bayes)\n",
    "from sklearn.naive_bayes import GaussianNB,BernoulliNB\n",
    "\n",
    "#Decision tree classifier library.\n",
    "from sklearn.tree import DecisionTreeClassifier\n",
    "\n",
    "#Random Forest classifier library.\n",
    "from sklearn.ensemble import RandomForestClassifier\n",
    "\n",
    "#Xtream gradient Boost classifier library.\n",
    "from xgboost import XGBClassifier\n",
    "\n",
    "#Classifier related statistic library(terms related to classifier model).\n",
    "from sklearn.metrics import accuracy_score,confusion_matrix,classification_report\n",
    "\n",
    "#Classifier model pickling library(do the byte conversion of ml model and saved into pkl format)\n",
    "import pickle\n",
    "\n",
    "#Warning Handling library.\n",
    "import warnings\n",
    "\n",
    "#Here we ignore warnings.\n",
    "warnings.filterwarnings(\"ignore\")"
   ]
  },
  {
   "cell_type": "markdown",
   "id": "c653686f-0aa6-4e0f-ada2-dffd35b133a3",
   "metadata": {},
   "source": [
    "#####    ----------------------------------------------------------------------------------------\n",
    "### Now we firstly import the data and read it."
   ]
  },
  {
   "cell_type": "code",
   "execution_count": 2,
   "id": "dc5dca03-32f3-4de5-ad20-cbc8a1be9d2d",
   "metadata": {},
   "outputs": [],
   "source": [
    "#Here we read the churn dataset.\n",
    "\n",
    "churn_df=pd.read_csv(r\"C:\\sudhanshu_projects\\project-task-training-course\\Customer Churn Prevention Model\\Churn_Modelling.csv\")"
   ]
  },
  {
   "cell_type": "code",
   "execution_count": 3,
   "id": "dae96400-107b-4887-8ada-66e3a9c7ad98",
   "metadata": {},
   "outputs": [
    {
     "data": {
      "text/html": [
       "<div>\n",
       "<style scoped>\n",
       "    .dataframe tbody tr th:only-of-type {\n",
       "        vertical-align: middle;\n",
       "    }\n",
       "\n",
       "    .dataframe tbody tr th {\n",
       "        vertical-align: top;\n",
       "    }\n",
       "\n",
       "    .dataframe thead th {\n",
       "        text-align: right;\n",
       "    }\n",
       "</style>\n",
       "<table border=\"1\" class=\"dataframe\">\n",
       "  <thead>\n",
       "    <tr style=\"text-align: right;\">\n",
       "      <th></th>\n",
       "      <th>apst</th>\n",
       "      <th>CustomerId</th>\n",
       "      <th>Surname</th>\n",
       "      <th>CreditScore</th>\n",
       "      <th>Geography</th>\n",
       "      <th>Gender</th>\n",
       "      <th>Age</th>\n",
       "      <th>Tenure</th>\n",
       "      <th>Balance</th>\n",
       "      <th>NumOfProducts</th>\n",
       "      <th>HasCrCard</th>\n",
       "      <th>IsActiveMember</th>\n",
       "      <th>EstimatedSalary</th>\n",
       "      <th>Exited</th>\n",
       "    </tr>\n",
       "  </thead>\n",
       "  <tbody>\n",
       "    <tr>\n",
       "      <th>0</th>\n",
       "      <td>1</td>\n",
       "      <td>15634602</td>\n",
       "      <td>Hargrave</td>\n",
       "      <td>619</td>\n",
       "      <td>delhi</td>\n",
       "      <td>Female</td>\n",
       "      <td>42</td>\n",
       "      <td>2</td>\n",
       "      <td>0.00</td>\n",
       "      <td>1</td>\n",
       "      <td>1</td>\n",
       "      <td>1</td>\n",
       "      <td>101348.88</td>\n",
       "      <td>1</td>\n",
       "    </tr>\n",
       "    <tr>\n",
       "      <th>1</th>\n",
       "      <td>2</td>\n",
       "      <td>15647311</td>\n",
       "      <td>Hill</td>\n",
       "      <td>608</td>\n",
       "      <td>bangalore</td>\n",
       "      <td>Female</td>\n",
       "      <td>41</td>\n",
       "      <td>1</td>\n",
       "      <td>83807.86</td>\n",
       "      <td>1</td>\n",
       "      <td>0</td>\n",
       "      <td>1</td>\n",
       "      <td>112542.58</td>\n",
       "      <td>0</td>\n",
       "    </tr>\n",
       "    <tr>\n",
       "      <th>2</th>\n",
       "      <td>3</td>\n",
       "      <td>15619304</td>\n",
       "      <td>Onio</td>\n",
       "      <td>502</td>\n",
       "      <td>delhi</td>\n",
       "      <td>Female</td>\n",
       "      <td>42</td>\n",
       "      <td>8</td>\n",
       "      <td>159660.80</td>\n",
       "      <td>3</td>\n",
       "      <td>1</td>\n",
       "      <td>0</td>\n",
       "      <td>113931.57</td>\n",
       "      <td>1</td>\n",
       "    </tr>\n",
       "    <tr>\n",
       "      <th>3</th>\n",
       "      <td>4</td>\n",
       "      <td>15701354</td>\n",
       "      <td>Boni</td>\n",
       "      <td>699</td>\n",
       "      <td>delhi</td>\n",
       "      <td>Female</td>\n",
       "      <td>39</td>\n",
       "      <td>1</td>\n",
       "      <td>0.00</td>\n",
       "      <td>2</td>\n",
       "      <td>0</td>\n",
       "      <td>0</td>\n",
       "      <td>93826.63</td>\n",
       "      <td>0</td>\n",
       "    </tr>\n",
       "    <tr>\n",
       "      <th>4</th>\n",
       "      <td>5</td>\n",
       "      <td>15737888</td>\n",
       "      <td>Mitchell</td>\n",
       "      <td>850</td>\n",
       "      <td>bangalore</td>\n",
       "      <td>Female</td>\n",
       "      <td>43</td>\n",
       "      <td>2</td>\n",
       "      <td>125510.82</td>\n",
       "      <td>1</td>\n",
       "      <td>1</td>\n",
       "      <td>1</td>\n",
       "      <td>79084.10</td>\n",
       "      <td>0</td>\n",
       "    </tr>\n",
       "  </tbody>\n",
       "</table>\n",
       "</div>"
      ],
      "text/plain": [
       "   apst  CustomerId   Surname  CreditScore  Geography  Gender  Age  Tenure  \\\n",
       "0     1    15634602  Hargrave          619      delhi  Female   42       2   \n",
       "1     2    15647311      Hill          608  bangalore  Female   41       1   \n",
       "2     3    15619304      Onio          502      delhi  Female   42       8   \n",
       "3     4    15701354      Boni          699      delhi  Female   39       1   \n",
       "4     5    15737888  Mitchell          850  bangalore  Female   43       2   \n",
       "\n",
       "     Balance  NumOfProducts  HasCrCard  IsActiveMember  EstimatedSalary  \\\n",
       "0       0.00              1          1               1        101348.88   \n",
       "1   83807.86              1          0               1        112542.58   \n",
       "2  159660.80              3          1               0        113931.57   \n",
       "3       0.00              2          0               0         93826.63   \n",
       "4  125510.82              1          1               1         79084.10   \n",
       "\n",
       "   Exited  \n",
       "0       1  \n",
       "1       0  \n",
       "2       1  \n",
       "3       0  \n",
       "4       0  "
      ]
     },
     "execution_count": 3,
     "metadata": {},
     "output_type": "execute_result"
    }
   ],
   "source": [
    "#Now here we check the top records from the dataset.\n",
    "\n",
    "churn_df.head()"
   ]
  },
  {
   "cell_type": "code",
   "execution_count": 4,
   "id": "fc303fca-1378-442a-bd0e-2414a8727a7e",
   "metadata": {},
   "outputs": [
    {
     "data": {
      "text/plain": [
       "(10000, 14)"
      ]
     },
     "execution_count": 4,
     "metadata": {},
     "output_type": "execute_result"
    }
   ],
   "source": [
    "#Here we check the shape of the dataset.\n",
    "\n",
    "churn_df.shape\n",
    "\n",
    "#The shape of churn_df dataset is (10000,14),it means there are 10000 instances and 14 features."
   ]
  },
  {
   "cell_type": "code",
   "execution_count": 5,
   "id": "c488df59-8990-4e22-a331-0369822b5059",
   "metadata": {},
   "outputs": [
    {
     "data": {
      "text/plain": [
       "Index(['apst', 'CustomerId', 'Surname', 'CreditScore', 'Geography', 'Gender',\n",
       "       'Age', 'Tenure', 'Balance', 'NumOfProducts', 'HasCrCard',\n",
       "       'IsActiveMember', 'EstimatedSalary', 'Exited'],\n",
       "      dtype='object')"
      ]
     },
     "execution_count": 5,
     "metadata": {},
     "output_type": "execute_result"
    }
   ],
   "source": [
    "#Now we check the column names of the dataset.\n",
    "\n",
    "churn_df.columns"
   ]
  },
  {
   "cell_type": "code",
   "execution_count": 6,
   "id": "b5a9050d-43b3-4412-a5d5-f321c1b1ca43",
   "metadata": {},
   "outputs": [],
   "source": [
    "#Here we see that the first three columns are not useful for prediction in any way,so we drop it.\n",
    "\n",
    "#We drop these columns.\n",
    "cols=['apst', 'CustomerId', 'Surname']\n",
    "\n",
    "#Now here we drop the columns and use axis=1,which means column wise and inplace=True,which means we permanently drop it from dataset.\n",
    "churn_df.drop(columns=cols,axis=1,inplace=True)"
   ]
  },
  {
   "cell_type": "code",
   "execution_count": 7,
   "id": "015dbb52-3ff0-415f-a215-bd5e0d9e7c51",
   "metadata": {},
   "outputs": [
    {
     "data": {
      "text/plain": [
       "(10000, 11)"
      ]
     },
     "execution_count": 7,
     "metadata": {},
     "output_type": "execute_result"
    }
   ],
   "source": [
    "#Now we again check the shape of dataset after dropping the column.\n",
    "\n",
    "churn_df.shape\n",
    "\n",
    "#Now the shape is (10000,11),it means there are 10000 instances and 11 features."
   ]
  },
  {
   "cell_type": "code",
   "execution_count": 8,
   "id": "d4307cb7-bcbe-4fd0-844a-4a876af57e65",
   "metadata": {},
   "outputs": [
    {
     "data": {
      "text/html": [
       "<div>\n",
       "<style scoped>\n",
       "    .dataframe tbody tr th:only-of-type {\n",
       "        vertical-align: middle;\n",
       "    }\n",
       "\n",
       "    .dataframe tbody tr th {\n",
       "        vertical-align: top;\n",
       "    }\n",
       "\n",
       "    .dataframe thead th {\n",
       "        text-align: right;\n",
       "    }\n",
       "</style>\n",
       "<table border=\"1\" class=\"dataframe\">\n",
       "  <thead>\n",
       "    <tr style=\"text-align: right;\">\n",
       "      <th></th>\n",
       "      <th>CreditScore</th>\n",
       "      <th>Geography</th>\n",
       "      <th>Gender</th>\n",
       "      <th>Age</th>\n",
       "      <th>Tenure</th>\n",
       "      <th>Balance</th>\n",
       "      <th>NumOfProducts</th>\n",
       "      <th>HasCrCard</th>\n",
       "      <th>IsActiveMember</th>\n",
       "      <th>EstimatedSalary</th>\n",
       "      <th>Exited</th>\n",
       "    </tr>\n",
       "  </thead>\n",
       "  <tbody>\n",
       "    <tr>\n",
       "      <th>0</th>\n",
       "      <td>619</td>\n",
       "      <td>delhi</td>\n",
       "      <td>Female</td>\n",
       "      <td>42</td>\n",
       "      <td>2</td>\n",
       "      <td>0.00</td>\n",
       "      <td>1</td>\n",
       "      <td>1</td>\n",
       "      <td>1</td>\n",
       "      <td>101348.88</td>\n",
       "      <td>1</td>\n",
       "    </tr>\n",
       "    <tr>\n",
       "      <th>1</th>\n",
       "      <td>608</td>\n",
       "      <td>bangalore</td>\n",
       "      <td>Female</td>\n",
       "      <td>41</td>\n",
       "      <td>1</td>\n",
       "      <td>83807.86</td>\n",
       "      <td>1</td>\n",
       "      <td>0</td>\n",
       "      <td>1</td>\n",
       "      <td>112542.58</td>\n",
       "      <td>0</td>\n",
       "    </tr>\n",
       "    <tr>\n",
       "      <th>2</th>\n",
       "      <td>502</td>\n",
       "      <td>delhi</td>\n",
       "      <td>Female</td>\n",
       "      <td>42</td>\n",
       "      <td>8</td>\n",
       "      <td>159660.80</td>\n",
       "      <td>3</td>\n",
       "      <td>1</td>\n",
       "      <td>0</td>\n",
       "      <td>113931.57</td>\n",
       "      <td>1</td>\n",
       "    </tr>\n",
       "    <tr>\n",
       "      <th>3</th>\n",
       "      <td>699</td>\n",
       "      <td>delhi</td>\n",
       "      <td>Female</td>\n",
       "      <td>39</td>\n",
       "      <td>1</td>\n",
       "      <td>0.00</td>\n",
       "      <td>2</td>\n",
       "      <td>0</td>\n",
       "      <td>0</td>\n",
       "      <td>93826.63</td>\n",
       "      <td>0</td>\n",
       "    </tr>\n",
       "    <tr>\n",
       "      <th>4</th>\n",
       "      <td>850</td>\n",
       "      <td>bangalore</td>\n",
       "      <td>Female</td>\n",
       "      <td>43</td>\n",
       "      <td>2</td>\n",
       "      <td>125510.82</td>\n",
       "      <td>1</td>\n",
       "      <td>1</td>\n",
       "      <td>1</td>\n",
       "      <td>79084.10</td>\n",
       "      <td>0</td>\n",
       "    </tr>\n",
       "  </tbody>\n",
       "</table>\n",
       "</div>"
      ],
      "text/plain": [
       "   CreditScore  Geography  Gender  Age  Tenure    Balance  NumOfProducts  \\\n",
       "0          619      delhi  Female   42       2       0.00              1   \n",
       "1          608  bangalore  Female   41       1   83807.86              1   \n",
       "2          502      delhi  Female   42       8  159660.80              3   \n",
       "3          699      delhi  Female   39       1       0.00              2   \n",
       "4          850  bangalore  Female   43       2  125510.82              1   \n",
       "\n",
       "   HasCrCard  IsActiveMember  EstimatedSalary  Exited  \n",
       "0          1               1        101348.88       1  \n",
       "1          0               1        112542.58       0  \n",
       "2          1               0        113931.57       1  \n",
       "3          0               0         93826.63       0  \n",
       "4          1               1         79084.10       0  "
      ]
     },
     "execution_count": 8,
     "metadata": {},
     "output_type": "execute_result"
    }
   ],
   "source": [
    "#Now we check the top records from the dataset.\n",
    "\n",
    "churn_df.head()"
   ]
  },
  {
   "cell_type": "code",
   "execution_count": 9,
   "id": "4d5ba818-03e0-403f-b567-9c22eef9c5f7",
   "metadata": {},
   "outputs": [
    {
     "data": {
      "text/plain": [
       "CreditScore        0\n",
       "Geography          0\n",
       "Gender             0\n",
       "Age                0\n",
       "Tenure             0\n",
       "Balance            0\n",
       "NumOfProducts      0\n",
       "HasCrCard          0\n",
       "IsActiveMember     0\n",
       "EstimatedSalary    0\n",
       "Exited             0\n",
       "dtype: int64"
      ]
     },
     "execution_count": 9,
     "metadata": {},
     "output_type": "execute_result"
    }
   ],
   "source": [
    "#Here we check is there any null value present in the dataset.\n",
    "\n",
    "churn_df.isna().sum()\n",
    "\n",
    "#As there is no column,which contain any null value."
   ]
  },
  {
   "cell_type": "code",
   "execution_count": 10,
   "id": "bd3cb8be-6685-4c3b-8708-1b009b501c6f",
   "metadata": {},
   "outputs": [
    {
     "data": {
      "text/plain": [
       "CreditScore          int64\n",
       "Geography           object\n",
       "Gender              object\n",
       "Age                  int64\n",
       "Tenure               int64\n",
       "Balance            float64\n",
       "NumOfProducts        int64\n",
       "HasCrCard            int64\n",
       "IsActiveMember       int64\n",
       "EstimatedSalary    float64\n",
       "Exited               int64\n",
       "dtype: object"
      ]
     },
     "execution_count": 10,
     "metadata": {},
     "output_type": "execute_result"
    }
   ],
   "source": [
    "#Here we check the datatype of each column of dataset.\n",
    "\n",
    "churn_df.dtypes\n",
    "\n",
    "#As there is both categorical and numerical columns are present.\n",
    "#categorical columns:--> geography,gender\n",
    "#Numerical columns:--> creditscore,age,tenure,balance,nomofproducts,hascrcard,isactivemember,estimatedsalary,exited."
   ]
  },
  {
   "cell_type": "code",
   "execution_count": 11,
   "id": "8661f1b9-7a03-41a6-abba-a47ef2b5093d",
   "metadata": {},
   "outputs": [
    {
     "name": "stdout",
     "output_type": "stream",
     "text": [
      "<class 'pandas.core.frame.DataFrame'>\n",
      "RangeIndex: 10000 entries, 0 to 9999\n",
      "Data columns (total 11 columns):\n",
      " #   Column           Non-Null Count  Dtype  \n",
      "---  ------           --------------  -----  \n",
      " 0   CreditScore      10000 non-null  int64  \n",
      " 1   Geography        10000 non-null  object \n",
      " 2   Gender           10000 non-null  object \n",
      " 3   Age              10000 non-null  int64  \n",
      " 4   Tenure           10000 non-null  int64  \n",
      " 5   Balance          10000 non-null  float64\n",
      " 6   NumOfProducts    10000 non-null  int64  \n",
      " 7   HasCrCard        10000 non-null  int64  \n",
      " 8   IsActiveMember   10000 non-null  int64  \n",
      " 9   EstimatedSalary  10000 non-null  float64\n",
      " 10  Exited           10000 non-null  int64  \n",
      "dtypes: float64(2), int64(7), object(2)\n",
      "memory usage: 859.5+ KB\n"
     ]
    }
   ],
   "source": [
    "#Now here we get the complete information of the dataset.\n",
    "\n",
    "churn_df.info()\n",
    "\n",
    "#Here we find the number of non-null values,dtype of each column."
   ]
  },
  {
   "cell_type": "code",
   "execution_count": 12,
   "id": "99afeed8-6eb1-48d1-873c-b9ea5dd812d9",
   "metadata": {},
   "outputs": [
    {
     "data": {
      "text/html": [
       "<div>\n",
       "<style scoped>\n",
       "    .dataframe tbody tr th:only-of-type {\n",
       "        vertical-align: middle;\n",
       "    }\n",
       "\n",
       "    .dataframe tbody tr th {\n",
       "        vertical-align: top;\n",
       "    }\n",
       "\n",
       "    .dataframe thead th {\n",
       "        text-align: right;\n",
       "    }\n",
       "</style>\n",
       "<table border=\"1\" class=\"dataframe\">\n",
       "  <thead>\n",
       "    <tr style=\"text-align: right;\">\n",
       "      <th></th>\n",
       "      <th>CreditScore</th>\n",
       "      <th>Age</th>\n",
       "      <th>Tenure</th>\n",
       "      <th>Balance</th>\n",
       "      <th>NumOfProducts</th>\n",
       "      <th>HasCrCard</th>\n",
       "      <th>IsActiveMember</th>\n",
       "      <th>EstimatedSalary</th>\n",
       "      <th>Exited</th>\n",
       "    </tr>\n",
       "  </thead>\n",
       "  <tbody>\n",
       "    <tr>\n",
       "      <th>count</th>\n",
       "      <td>10000.000000</td>\n",
       "      <td>10000.000000</td>\n",
       "      <td>10000.000000</td>\n",
       "      <td>10000.000000</td>\n",
       "      <td>10000.000000</td>\n",
       "      <td>10000.00000</td>\n",
       "      <td>10000.000000</td>\n",
       "      <td>10000.000000</td>\n",
       "      <td>10000.000000</td>\n",
       "    </tr>\n",
       "    <tr>\n",
       "      <th>mean</th>\n",
       "      <td>650.528800</td>\n",
       "      <td>38.921800</td>\n",
       "      <td>5.012800</td>\n",
       "      <td>76485.889288</td>\n",
       "      <td>1.530200</td>\n",
       "      <td>0.70550</td>\n",
       "      <td>0.515100</td>\n",
       "      <td>100090.239881</td>\n",
       "      <td>0.203700</td>\n",
       "    </tr>\n",
       "    <tr>\n",
       "      <th>std</th>\n",
       "      <td>96.653299</td>\n",
       "      <td>10.487806</td>\n",
       "      <td>2.892174</td>\n",
       "      <td>62397.405202</td>\n",
       "      <td>0.581654</td>\n",
       "      <td>0.45584</td>\n",
       "      <td>0.499797</td>\n",
       "      <td>57510.492818</td>\n",
       "      <td>0.402769</td>\n",
       "    </tr>\n",
       "    <tr>\n",
       "      <th>min</th>\n",
       "      <td>350.000000</td>\n",
       "      <td>18.000000</td>\n",
       "      <td>0.000000</td>\n",
       "      <td>0.000000</td>\n",
       "      <td>1.000000</td>\n",
       "      <td>0.00000</td>\n",
       "      <td>0.000000</td>\n",
       "      <td>11.580000</td>\n",
       "      <td>0.000000</td>\n",
       "    </tr>\n",
       "    <tr>\n",
       "      <th>25%</th>\n",
       "      <td>584.000000</td>\n",
       "      <td>32.000000</td>\n",
       "      <td>3.000000</td>\n",
       "      <td>0.000000</td>\n",
       "      <td>1.000000</td>\n",
       "      <td>0.00000</td>\n",
       "      <td>0.000000</td>\n",
       "      <td>51002.110000</td>\n",
       "      <td>0.000000</td>\n",
       "    </tr>\n",
       "    <tr>\n",
       "      <th>50%</th>\n",
       "      <td>652.000000</td>\n",
       "      <td>37.000000</td>\n",
       "      <td>5.000000</td>\n",
       "      <td>97198.540000</td>\n",
       "      <td>1.000000</td>\n",
       "      <td>1.00000</td>\n",
       "      <td>1.000000</td>\n",
       "      <td>100193.915000</td>\n",
       "      <td>0.000000</td>\n",
       "    </tr>\n",
       "    <tr>\n",
       "      <th>75%</th>\n",
       "      <td>718.000000</td>\n",
       "      <td>44.000000</td>\n",
       "      <td>7.000000</td>\n",
       "      <td>127644.240000</td>\n",
       "      <td>2.000000</td>\n",
       "      <td>1.00000</td>\n",
       "      <td>1.000000</td>\n",
       "      <td>149388.247500</td>\n",
       "      <td>0.000000</td>\n",
       "    </tr>\n",
       "    <tr>\n",
       "      <th>max</th>\n",
       "      <td>850.000000</td>\n",
       "      <td>92.000000</td>\n",
       "      <td>10.000000</td>\n",
       "      <td>250898.090000</td>\n",
       "      <td>4.000000</td>\n",
       "      <td>1.00000</td>\n",
       "      <td>1.000000</td>\n",
       "      <td>199992.480000</td>\n",
       "      <td>1.000000</td>\n",
       "    </tr>\n",
       "  </tbody>\n",
       "</table>\n",
       "</div>"
      ],
      "text/plain": [
       "        CreditScore           Age        Tenure        Balance  NumOfProducts  \\\n",
       "count  10000.000000  10000.000000  10000.000000   10000.000000   10000.000000   \n",
       "mean     650.528800     38.921800      5.012800   76485.889288       1.530200   \n",
       "std       96.653299     10.487806      2.892174   62397.405202       0.581654   \n",
       "min      350.000000     18.000000      0.000000       0.000000       1.000000   \n",
       "25%      584.000000     32.000000      3.000000       0.000000       1.000000   \n",
       "50%      652.000000     37.000000      5.000000   97198.540000       1.000000   \n",
       "75%      718.000000     44.000000      7.000000  127644.240000       2.000000   \n",
       "max      850.000000     92.000000     10.000000  250898.090000       4.000000   \n",
       "\n",
       "         HasCrCard  IsActiveMember  EstimatedSalary        Exited  \n",
       "count  10000.00000    10000.000000     10000.000000  10000.000000  \n",
       "mean       0.70550        0.515100    100090.239881      0.203700  \n",
       "std        0.45584        0.499797     57510.492818      0.402769  \n",
       "min        0.00000        0.000000        11.580000      0.000000  \n",
       "25%        0.00000        0.000000     51002.110000      0.000000  \n",
       "50%        1.00000        1.000000    100193.915000      0.000000  \n",
       "75%        1.00000        1.000000    149388.247500      0.000000  \n",
       "max        1.00000        1.000000    199992.480000      1.000000  "
      ]
     },
     "execution_count": 12,
     "metadata": {},
     "output_type": "execute_result"
    }
   ],
   "source": [
    "#Now here we find the descriptive statistics of the dataset.\n",
    "\n",
    "churn_df.describe()\n",
    "\n",
    "#Here we find the descriptive statistics of numerical column only.\n",
    "#Here we find the min,max,mean,std,count."
   ]
  },
  {
   "cell_type": "code",
   "execution_count": 13,
   "id": "da11e231-90f1-492c-81ce-913d1d8c4031",
   "metadata": {},
   "outputs": [
    {
     "data": {
      "text/plain": [
       "Index(['CreditScore', 'Geography', 'Gender', 'Age', 'Tenure', 'Balance',\n",
       "       'NumOfProducts', 'HasCrCard', 'IsActiveMember', 'EstimatedSalary',\n",
       "       'Exited'],\n",
       "      dtype='object')"
      ]
     },
     "execution_count": 13,
     "metadata": {},
     "output_type": "execute_result"
    }
   ],
   "source": [
    "#Now here we get the column names of updated dataset.\n",
    "\n",
    "churn_df.columns"
   ]
  },
  {
   "cell_type": "code",
   "execution_count": 14,
   "id": "44b3a39f-a4d3-42d9-bce1-d89faf8ae053",
   "metadata": {},
   "outputs": [],
   "source": [
    "#Now here we do the labelencoding of gender column.\n",
    "\n",
    "#Here we convert the categorical column into numerical value and provide one specific integer to specific category,\n",
    "#Such as male-->1 and female-->0.\n",
    "\n",
    "#Here we create the labelencoder model object.\n",
    "le=LabelEncoder()\n",
    "\n",
    "#Here we fit and transform the gender column.\n",
    "churn_df[\"Gender\"]=le.fit_transform(churn_df[\"Gender\"])"
   ]
  },
  {
   "cell_type": "code",
   "execution_count": 15,
   "id": "464d626a-0ab1-448f-bcd4-580cc0f8518e",
   "metadata": {},
   "outputs": [
    {
     "data": {
      "text/html": [
       "<div>\n",
       "<style scoped>\n",
       "    .dataframe tbody tr th:only-of-type {\n",
       "        vertical-align: middle;\n",
       "    }\n",
       "\n",
       "    .dataframe tbody tr th {\n",
       "        vertical-align: top;\n",
       "    }\n",
       "\n",
       "    .dataframe thead th {\n",
       "        text-align: right;\n",
       "    }\n",
       "</style>\n",
       "<table border=\"1\" class=\"dataframe\">\n",
       "  <thead>\n",
       "    <tr style=\"text-align: right;\">\n",
       "      <th></th>\n",
       "      <th>CreditScore</th>\n",
       "      <th>Geography</th>\n",
       "      <th>Gender</th>\n",
       "      <th>Age</th>\n",
       "      <th>Tenure</th>\n",
       "      <th>Balance</th>\n",
       "      <th>NumOfProducts</th>\n",
       "      <th>HasCrCard</th>\n",
       "      <th>IsActiveMember</th>\n",
       "      <th>EstimatedSalary</th>\n",
       "      <th>Exited</th>\n",
       "    </tr>\n",
       "  </thead>\n",
       "  <tbody>\n",
       "    <tr>\n",
       "      <th>0</th>\n",
       "      <td>619</td>\n",
       "      <td>delhi</td>\n",
       "      <td>0</td>\n",
       "      <td>42</td>\n",
       "      <td>2</td>\n",
       "      <td>0.00</td>\n",
       "      <td>1</td>\n",
       "      <td>1</td>\n",
       "      <td>1</td>\n",
       "      <td>101348.88</td>\n",
       "      <td>1</td>\n",
       "    </tr>\n",
       "    <tr>\n",
       "      <th>1</th>\n",
       "      <td>608</td>\n",
       "      <td>bangalore</td>\n",
       "      <td>0</td>\n",
       "      <td>41</td>\n",
       "      <td>1</td>\n",
       "      <td>83807.86</td>\n",
       "      <td>1</td>\n",
       "      <td>0</td>\n",
       "      <td>1</td>\n",
       "      <td>112542.58</td>\n",
       "      <td>0</td>\n",
       "    </tr>\n",
       "    <tr>\n",
       "      <th>2</th>\n",
       "      <td>502</td>\n",
       "      <td>delhi</td>\n",
       "      <td>0</td>\n",
       "      <td>42</td>\n",
       "      <td>8</td>\n",
       "      <td>159660.80</td>\n",
       "      <td>3</td>\n",
       "      <td>1</td>\n",
       "      <td>0</td>\n",
       "      <td>113931.57</td>\n",
       "      <td>1</td>\n",
       "    </tr>\n",
       "    <tr>\n",
       "      <th>3</th>\n",
       "      <td>699</td>\n",
       "      <td>delhi</td>\n",
       "      <td>0</td>\n",
       "      <td>39</td>\n",
       "      <td>1</td>\n",
       "      <td>0.00</td>\n",
       "      <td>2</td>\n",
       "      <td>0</td>\n",
       "      <td>0</td>\n",
       "      <td>93826.63</td>\n",
       "      <td>0</td>\n",
       "    </tr>\n",
       "    <tr>\n",
       "      <th>4</th>\n",
       "      <td>850</td>\n",
       "      <td>bangalore</td>\n",
       "      <td>0</td>\n",
       "      <td>43</td>\n",
       "      <td>2</td>\n",
       "      <td>125510.82</td>\n",
       "      <td>1</td>\n",
       "      <td>1</td>\n",
       "      <td>1</td>\n",
       "      <td>79084.10</td>\n",
       "      <td>0</td>\n",
       "    </tr>\n",
       "  </tbody>\n",
       "</table>\n",
       "</div>"
      ],
      "text/plain": [
       "   CreditScore  Geography  Gender  Age  Tenure    Balance  NumOfProducts  \\\n",
       "0          619      delhi       0   42       2       0.00              1   \n",
       "1          608  bangalore       0   41       1   83807.86              1   \n",
       "2          502      delhi       0   42       8  159660.80              3   \n",
       "3          699      delhi       0   39       1       0.00              2   \n",
       "4          850  bangalore       0   43       2  125510.82              1   \n",
       "\n",
       "   HasCrCard  IsActiveMember  EstimatedSalary  Exited  \n",
       "0          1               1        101348.88       1  \n",
       "1          0               1        112542.58       0  \n",
       "2          1               0        113931.57       1  \n",
       "3          0               0         93826.63       0  \n",
       "4          1               1         79084.10       0  "
      ]
     },
     "execution_count": 15,
     "metadata": {},
     "output_type": "execute_result"
    }
   ],
   "source": [
    "#Now we check the dataset after do the encoding.\n",
    "\n",
    "churn_df.head()"
   ]
  },
  {
   "cell_type": "code",
   "execution_count": 16,
   "id": "6d4a0635-692f-45ad-b1e1-879be88535dc",
   "metadata": {},
   "outputs": [
    {
     "data": {
      "text/plain": [
       "Geography\n",
       "delhi        5014\n",
       "mumbai       2509\n",
       "bangalore    2477\n",
       "Name: count, dtype: int64"
      ]
     },
     "execution_count": 16,
     "metadata": {},
     "output_type": "execute_result"
    }
   ],
   "source": [
    "#Here we find the value counts of geography column.\n",
    "\n",
    "churn_df[\"Geography\"].value_counts()\n",
    "\n",
    "#Here we have three category such as delhi,mumbai and banglore."
   ]
  },
  {
   "cell_type": "code",
   "execution_count": 17,
   "id": "1daf83b7-6fa4-44b0-a7cf-b0a3049b23c2",
   "metadata": {},
   "outputs": [],
   "source": [
    "#Now here we do the feature scaling and we create new columns for better prediction.\n",
    "\n",
    "#Here we use onehotencoder and create the new columns for each category of categorical column.\n",
    "\n",
    "#As here we apply the onehotencoding on geography column,so we create new column for delhi,banglore and mumbai.\n",
    "\n",
    "#We can also do this by get_dummies of pandas.\n",
    "\n",
    "#Here we create the dummies means multiple column from one column.\n",
    "churn_df[[\"banglore\",\"delhi\",\"mumbai\"]]=pd.get_dummies(churn_df[\"Geography\"],dtype=\"int\")"
   ]
  },
  {
   "cell_type": "code",
   "execution_count": 18,
   "id": "0c8ac494-3e61-4721-a773-77389da1de90",
   "metadata": {},
   "outputs": [
    {
     "data": {
      "text/html": [
       "<div>\n",
       "<style scoped>\n",
       "    .dataframe tbody tr th:only-of-type {\n",
       "        vertical-align: middle;\n",
       "    }\n",
       "\n",
       "    .dataframe tbody tr th {\n",
       "        vertical-align: top;\n",
       "    }\n",
       "\n",
       "    .dataframe thead th {\n",
       "        text-align: right;\n",
       "    }\n",
       "</style>\n",
       "<table border=\"1\" class=\"dataframe\">\n",
       "  <thead>\n",
       "    <tr style=\"text-align: right;\">\n",
       "      <th></th>\n",
       "      <th>CreditScore</th>\n",
       "      <th>Geography</th>\n",
       "      <th>Gender</th>\n",
       "      <th>Age</th>\n",
       "      <th>Tenure</th>\n",
       "      <th>Balance</th>\n",
       "      <th>NumOfProducts</th>\n",
       "      <th>HasCrCard</th>\n",
       "      <th>IsActiveMember</th>\n",
       "      <th>EstimatedSalary</th>\n",
       "      <th>Exited</th>\n",
       "      <th>banglore</th>\n",
       "      <th>delhi</th>\n",
       "      <th>mumbai</th>\n",
       "    </tr>\n",
       "  </thead>\n",
       "  <tbody>\n",
       "    <tr>\n",
       "      <th>0</th>\n",
       "      <td>619</td>\n",
       "      <td>delhi</td>\n",
       "      <td>0</td>\n",
       "      <td>42</td>\n",
       "      <td>2</td>\n",
       "      <td>0.00</td>\n",
       "      <td>1</td>\n",
       "      <td>1</td>\n",
       "      <td>1</td>\n",
       "      <td>101348.88</td>\n",
       "      <td>1</td>\n",
       "      <td>0</td>\n",
       "      <td>1</td>\n",
       "      <td>0</td>\n",
       "    </tr>\n",
       "    <tr>\n",
       "      <th>1</th>\n",
       "      <td>608</td>\n",
       "      <td>bangalore</td>\n",
       "      <td>0</td>\n",
       "      <td>41</td>\n",
       "      <td>1</td>\n",
       "      <td>83807.86</td>\n",
       "      <td>1</td>\n",
       "      <td>0</td>\n",
       "      <td>1</td>\n",
       "      <td>112542.58</td>\n",
       "      <td>0</td>\n",
       "      <td>1</td>\n",
       "      <td>0</td>\n",
       "      <td>0</td>\n",
       "    </tr>\n",
       "    <tr>\n",
       "      <th>2</th>\n",
       "      <td>502</td>\n",
       "      <td>delhi</td>\n",
       "      <td>0</td>\n",
       "      <td>42</td>\n",
       "      <td>8</td>\n",
       "      <td>159660.80</td>\n",
       "      <td>3</td>\n",
       "      <td>1</td>\n",
       "      <td>0</td>\n",
       "      <td>113931.57</td>\n",
       "      <td>1</td>\n",
       "      <td>0</td>\n",
       "      <td>1</td>\n",
       "      <td>0</td>\n",
       "    </tr>\n",
       "    <tr>\n",
       "      <th>3</th>\n",
       "      <td>699</td>\n",
       "      <td>delhi</td>\n",
       "      <td>0</td>\n",
       "      <td>39</td>\n",
       "      <td>1</td>\n",
       "      <td>0.00</td>\n",
       "      <td>2</td>\n",
       "      <td>0</td>\n",
       "      <td>0</td>\n",
       "      <td>93826.63</td>\n",
       "      <td>0</td>\n",
       "      <td>0</td>\n",
       "      <td>1</td>\n",
       "      <td>0</td>\n",
       "    </tr>\n",
       "    <tr>\n",
       "      <th>4</th>\n",
       "      <td>850</td>\n",
       "      <td>bangalore</td>\n",
       "      <td>0</td>\n",
       "      <td>43</td>\n",
       "      <td>2</td>\n",
       "      <td>125510.82</td>\n",
       "      <td>1</td>\n",
       "      <td>1</td>\n",
       "      <td>1</td>\n",
       "      <td>79084.10</td>\n",
       "      <td>0</td>\n",
       "      <td>1</td>\n",
       "      <td>0</td>\n",
       "      <td>0</td>\n",
       "    </tr>\n",
       "  </tbody>\n",
       "</table>\n",
       "</div>"
      ],
      "text/plain": [
       "   CreditScore  Geography  Gender  Age  Tenure    Balance  NumOfProducts  \\\n",
       "0          619      delhi       0   42       2       0.00              1   \n",
       "1          608  bangalore       0   41       1   83807.86              1   \n",
       "2          502      delhi       0   42       8  159660.80              3   \n",
       "3          699      delhi       0   39       1       0.00              2   \n",
       "4          850  bangalore       0   43       2  125510.82              1   \n",
       "\n",
       "   HasCrCard  IsActiveMember  EstimatedSalary  Exited  banglore  delhi  mumbai  \n",
       "0          1               1        101348.88       1         0      1       0  \n",
       "1          0               1        112542.58       0         1      0       0  \n",
       "2          1               0        113931.57       1         0      1       0  \n",
       "3          0               0         93826.63       0         0      1       0  \n",
       "4          1               1         79084.10       0         1      0       0  "
      ]
     },
     "execution_count": 18,
     "metadata": {},
     "output_type": "execute_result"
    }
   ],
   "source": [
    "#Now here we again check the dataset.\n",
    "\n",
    "churn_df.head()"
   ]
  },
  {
   "cell_type": "code",
   "execution_count": 19,
   "id": "e323be5b-15d0-450d-ac87-203c1497aa51",
   "metadata": {},
   "outputs": [],
   "source": [
    "#Now we can remove geography column from the dataset.\n",
    "\n",
    "churn_df.drop(\"Geography\",axis=1,inplace=True)"
   ]
  },
  {
   "cell_type": "code",
   "execution_count": 20,
   "id": "372e3885-bddc-4519-8f42-c5ed811ecc73",
   "metadata": {},
   "outputs": [
    {
     "data": {
      "text/html": [
       "<div>\n",
       "<style scoped>\n",
       "    .dataframe tbody tr th:only-of-type {\n",
       "        vertical-align: middle;\n",
       "    }\n",
       "\n",
       "    .dataframe tbody tr th {\n",
       "        vertical-align: top;\n",
       "    }\n",
       "\n",
       "    .dataframe thead th {\n",
       "        text-align: right;\n",
       "    }\n",
       "</style>\n",
       "<table border=\"1\" class=\"dataframe\">\n",
       "  <thead>\n",
       "    <tr style=\"text-align: right;\">\n",
       "      <th></th>\n",
       "      <th>CreditScore</th>\n",
       "      <th>Gender</th>\n",
       "      <th>Age</th>\n",
       "      <th>Tenure</th>\n",
       "      <th>Balance</th>\n",
       "      <th>NumOfProducts</th>\n",
       "      <th>HasCrCard</th>\n",
       "      <th>IsActiveMember</th>\n",
       "      <th>EstimatedSalary</th>\n",
       "      <th>Exited</th>\n",
       "      <th>banglore</th>\n",
       "      <th>delhi</th>\n",
       "      <th>mumbai</th>\n",
       "    </tr>\n",
       "  </thead>\n",
       "  <tbody>\n",
       "    <tr>\n",
       "      <th>0</th>\n",
       "      <td>619</td>\n",
       "      <td>0</td>\n",
       "      <td>42</td>\n",
       "      <td>2</td>\n",
       "      <td>0.00</td>\n",
       "      <td>1</td>\n",
       "      <td>1</td>\n",
       "      <td>1</td>\n",
       "      <td>101348.88</td>\n",
       "      <td>1</td>\n",
       "      <td>0</td>\n",
       "      <td>1</td>\n",
       "      <td>0</td>\n",
       "    </tr>\n",
       "    <tr>\n",
       "      <th>1</th>\n",
       "      <td>608</td>\n",
       "      <td>0</td>\n",
       "      <td>41</td>\n",
       "      <td>1</td>\n",
       "      <td>83807.86</td>\n",
       "      <td>1</td>\n",
       "      <td>0</td>\n",
       "      <td>1</td>\n",
       "      <td>112542.58</td>\n",
       "      <td>0</td>\n",
       "      <td>1</td>\n",
       "      <td>0</td>\n",
       "      <td>0</td>\n",
       "    </tr>\n",
       "    <tr>\n",
       "      <th>2</th>\n",
       "      <td>502</td>\n",
       "      <td>0</td>\n",
       "      <td>42</td>\n",
       "      <td>8</td>\n",
       "      <td>159660.80</td>\n",
       "      <td>3</td>\n",
       "      <td>1</td>\n",
       "      <td>0</td>\n",
       "      <td>113931.57</td>\n",
       "      <td>1</td>\n",
       "      <td>0</td>\n",
       "      <td>1</td>\n",
       "      <td>0</td>\n",
       "    </tr>\n",
       "    <tr>\n",
       "      <th>3</th>\n",
       "      <td>699</td>\n",
       "      <td>0</td>\n",
       "      <td>39</td>\n",
       "      <td>1</td>\n",
       "      <td>0.00</td>\n",
       "      <td>2</td>\n",
       "      <td>0</td>\n",
       "      <td>0</td>\n",
       "      <td>93826.63</td>\n",
       "      <td>0</td>\n",
       "      <td>0</td>\n",
       "      <td>1</td>\n",
       "      <td>0</td>\n",
       "    </tr>\n",
       "    <tr>\n",
       "      <th>4</th>\n",
       "      <td>850</td>\n",
       "      <td>0</td>\n",
       "      <td>43</td>\n",
       "      <td>2</td>\n",
       "      <td>125510.82</td>\n",
       "      <td>1</td>\n",
       "      <td>1</td>\n",
       "      <td>1</td>\n",
       "      <td>79084.10</td>\n",
       "      <td>0</td>\n",
       "      <td>1</td>\n",
       "      <td>0</td>\n",
       "      <td>0</td>\n",
       "    </tr>\n",
       "  </tbody>\n",
       "</table>\n",
       "</div>"
      ],
      "text/plain": [
       "   CreditScore  Gender  Age  Tenure    Balance  NumOfProducts  HasCrCard  \\\n",
       "0          619       0   42       2       0.00              1          1   \n",
       "1          608       0   41       1   83807.86              1          0   \n",
       "2          502       0   42       8  159660.80              3          1   \n",
       "3          699       0   39       1       0.00              2          0   \n",
       "4          850       0   43       2  125510.82              1          1   \n",
       "\n",
       "   IsActiveMember  EstimatedSalary  Exited  banglore  delhi  mumbai  \n",
       "0               1        101348.88       1         0      1       0  \n",
       "1               1        112542.58       0         1      0       0  \n",
       "2               0        113931.57       1         0      1       0  \n",
       "3               0         93826.63       0         0      1       0  \n",
       "4               1         79084.10       0         1      0       0  "
      ]
     },
     "execution_count": 20,
     "metadata": {},
     "output_type": "execute_result"
    }
   ],
   "source": [
    "#Now we check the top record of updated dataset.\n",
    "\n",
    "churn_df.head()"
   ]
  },
  {
   "cell_type": "code",
   "execution_count": 21,
   "id": "f44f2aa9-aac1-4a30-bdee-b925abfb4e94",
   "metadata": {},
   "outputs": [
    {
     "data": {
      "text/plain": [
       "(10000, 13)"
      ]
     },
     "execution_count": 21,
     "metadata": {},
     "output_type": "execute_result"
    }
   ],
   "source": [
    "#Here we check the shape of the updated dataset.\n",
    "\n",
    "churn_df.shape\n",
    "\n",
    "#Now the shape is (10000,13),so there are 10000 instances and 13 features."
   ]
  },
  {
   "cell_type": "code",
   "execution_count": 22,
   "id": "7887f940-51fd-4fdd-990c-7fc94b70be61",
   "metadata": {},
   "outputs": [
    {
     "data": {
      "text/html": [
       "<div>\n",
       "<style scoped>\n",
       "    .dataframe tbody tr th:only-of-type {\n",
       "        vertical-align: middle;\n",
       "    }\n",
       "\n",
       "    .dataframe tbody tr th {\n",
       "        vertical-align: top;\n",
       "    }\n",
       "\n",
       "    .dataframe thead th {\n",
       "        text-align: right;\n",
       "    }\n",
       "</style>\n",
       "<table border=\"1\" class=\"dataframe\">\n",
       "  <thead>\n",
       "    <tr style=\"text-align: right;\">\n",
       "      <th></th>\n",
       "      <th>CreditScore</th>\n",
       "      <th>Gender</th>\n",
       "      <th>Age</th>\n",
       "      <th>Tenure</th>\n",
       "      <th>Balance</th>\n",
       "      <th>NumOfProducts</th>\n",
       "      <th>HasCrCard</th>\n",
       "      <th>IsActiveMember</th>\n",
       "      <th>EstimatedSalary</th>\n",
       "      <th>Exited</th>\n",
       "      <th>banglore</th>\n",
       "      <th>delhi</th>\n",
       "      <th>mumbai</th>\n",
       "    </tr>\n",
       "  </thead>\n",
       "  <tbody>\n",
       "    <tr>\n",
       "      <th>CreditScore</th>\n",
       "      <td>1.000000</td>\n",
       "      <td>-0.002857</td>\n",
       "      <td>-0.003965</td>\n",
       "      <td>0.000842</td>\n",
       "      <td>0.006268</td>\n",
       "      <td>0.012238</td>\n",
       "      <td>-0.005458</td>\n",
       "      <td>0.025651</td>\n",
       "      <td>-0.001384</td>\n",
       "      <td>-0.027094</td>\n",
       "      <td>0.004780</td>\n",
       "      <td>-0.008928</td>\n",
       "      <td>0.005538</td>\n",
       "    </tr>\n",
       "    <tr>\n",
       "      <th>Gender</th>\n",
       "      <td>-0.002857</td>\n",
       "      <td>1.000000</td>\n",
       "      <td>-0.027544</td>\n",
       "      <td>0.014733</td>\n",
       "      <td>0.012087</td>\n",
       "      <td>-0.021859</td>\n",
       "      <td>0.005766</td>\n",
       "      <td>0.022544</td>\n",
       "      <td>-0.008112</td>\n",
       "      <td>-0.106512</td>\n",
       "      <td>0.016889</td>\n",
       "      <td>0.006772</td>\n",
       "      <td>-0.024628</td>\n",
       "    </tr>\n",
       "    <tr>\n",
       "      <th>Age</th>\n",
       "      <td>-0.003965</td>\n",
       "      <td>-0.027544</td>\n",
       "      <td>1.000000</td>\n",
       "      <td>-0.009997</td>\n",
       "      <td>0.028308</td>\n",
       "      <td>-0.030680</td>\n",
       "      <td>-0.011721</td>\n",
       "      <td>0.085472</td>\n",
       "      <td>-0.007201</td>\n",
       "      <td>0.285323</td>\n",
       "      <td>-0.001685</td>\n",
       "      <td>-0.039208</td>\n",
       "      <td>0.046897</td>\n",
       "    </tr>\n",
       "    <tr>\n",
       "      <th>Tenure</th>\n",
       "      <td>0.000842</td>\n",
       "      <td>0.014733</td>\n",
       "      <td>-0.009997</td>\n",
       "      <td>1.000000</td>\n",
       "      <td>-0.012254</td>\n",
       "      <td>0.013444</td>\n",
       "      <td>0.022583</td>\n",
       "      <td>-0.028362</td>\n",
       "      <td>0.007784</td>\n",
       "      <td>-0.014001</td>\n",
       "      <td>0.003868</td>\n",
       "      <td>-0.002848</td>\n",
       "      <td>-0.000567</td>\n",
       "    </tr>\n",
       "    <tr>\n",
       "      <th>Balance</th>\n",
       "      <td>0.006268</td>\n",
       "      <td>0.012087</td>\n",
       "      <td>0.028308</td>\n",
       "      <td>-0.012254</td>\n",
       "      <td>1.000000</td>\n",
       "      <td>-0.304180</td>\n",
       "      <td>-0.014858</td>\n",
       "      <td>-0.010084</td>\n",
       "      <td>0.012797</td>\n",
       "      <td>0.118533</td>\n",
       "      <td>-0.134892</td>\n",
       "      <td>-0.231329</td>\n",
       "      <td>0.401110</td>\n",
       "    </tr>\n",
       "    <tr>\n",
       "      <th>NumOfProducts</th>\n",
       "      <td>0.012238</td>\n",
       "      <td>-0.021859</td>\n",
       "      <td>-0.030680</td>\n",
       "      <td>0.013444</td>\n",
       "      <td>-0.304180</td>\n",
       "      <td>1.000000</td>\n",
       "      <td>0.003183</td>\n",
       "      <td>0.009612</td>\n",
       "      <td>0.014204</td>\n",
       "      <td>-0.047820</td>\n",
       "      <td>0.009039</td>\n",
       "      <td>0.001230</td>\n",
       "      <td>-0.010419</td>\n",
       "    </tr>\n",
       "    <tr>\n",
       "      <th>HasCrCard</th>\n",
       "      <td>-0.005458</td>\n",
       "      <td>0.005766</td>\n",
       "      <td>-0.011721</td>\n",
       "      <td>0.022583</td>\n",
       "      <td>-0.014858</td>\n",
       "      <td>0.003183</td>\n",
       "      <td>1.000000</td>\n",
       "      <td>-0.011866</td>\n",
       "      <td>-0.009933</td>\n",
       "      <td>-0.007138</td>\n",
       "      <td>-0.013480</td>\n",
       "      <td>0.002467</td>\n",
       "      <td>0.010577</td>\n",
       "    </tr>\n",
       "    <tr>\n",
       "      <th>IsActiveMember</th>\n",
       "      <td>0.025651</td>\n",
       "      <td>0.022544</td>\n",
       "      <td>0.085472</td>\n",
       "      <td>-0.028362</td>\n",
       "      <td>-0.010084</td>\n",
       "      <td>0.009612</td>\n",
       "      <td>-0.011866</td>\n",
       "      <td>1.000000</td>\n",
       "      <td>-0.011421</td>\n",
       "      <td>-0.156128</td>\n",
       "      <td>0.016732</td>\n",
       "      <td>0.003317</td>\n",
       "      <td>-0.020486</td>\n",
       "    </tr>\n",
       "    <tr>\n",
       "      <th>EstimatedSalary</th>\n",
       "      <td>-0.001384</td>\n",
       "      <td>-0.008112</td>\n",
       "      <td>-0.007201</td>\n",
       "      <td>0.007784</td>\n",
       "      <td>0.012797</td>\n",
       "      <td>0.014204</td>\n",
       "      <td>-0.009933</td>\n",
       "      <td>-0.011421</td>\n",
       "      <td>1.000000</td>\n",
       "      <td>0.012097</td>\n",
       "      <td>-0.006482</td>\n",
       "      <td>-0.003332</td>\n",
       "      <td>0.010297</td>\n",
       "    </tr>\n",
       "    <tr>\n",
       "      <th>Exited</th>\n",
       "      <td>-0.027094</td>\n",
       "      <td>-0.106512</td>\n",
       "      <td>0.285323</td>\n",
       "      <td>-0.014001</td>\n",
       "      <td>0.118533</td>\n",
       "      <td>-0.047820</td>\n",
       "      <td>-0.007138</td>\n",
       "      <td>-0.156128</td>\n",
       "      <td>0.012097</td>\n",
       "      <td>1.000000</td>\n",
       "      <td>-0.052667</td>\n",
       "      <td>-0.104955</td>\n",
       "      <td>0.173488</td>\n",
       "    </tr>\n",
       "    <tr>\n",
       "      <th>banglore</th>\n",
       "      <td>0.004780</td>\n",
       "      <td>0.016889</td>\n",
       "      <td>-0.001685</td>\n",
       "      <td>0.003868</td>\n",
       "      <td>-0.134892</td>\n",
       "      <td>0.009039</td>\n",
       "      <td>-0.013480</td>\n",
       "      <td>0.016732</td>\n",
       "      <td>-0.006482</td>\n",
       "      <td>-0.052667</td>\n",
       "      <td>1.000000</td>\n",
       "      <td>-0.575418</td>\n",
       "      <td>-0.332084</td>\n",
       "    </tr>\n",
       "    <tr>\n",
       "      <th>delhi</th>\n",
       "      <td>-0.008928</td>\n",
       "      <td>0.006772</td>\n",
       "      <td>-0.039208</td>\n",
       "      <td>-0.002848</td>\n",
       "      <td>-0.231329</td>\n",
       "      <td>0.001230</td>\n",
       "      <td>0.002467</td>\n",
       "      <td>0.003317</td>\n",
       "      <td>-0.003332</td>\n",
       "      <td>-0.104955</td>\n",
       "      <td>-0.575418</td>\n",
       "      <td>1.000000</td>\n",
       "      <td>-0.580359</td>\n",
       "    </tr>\n",
       "    <tr>\n",
       "      <th>mumbai</th>\n",
       "      <td>0.005538</td>\n",
       "      <td>-0.024628</td>\n",
       "      <td>0.046897</td>\n",
       "      <td>-0.000567</td>\n",
       "      <td>0.401110</td>\n",
       "      <td>-0.010419</td>\n",
       "      <td>0.010577</td>\n",
       "      <td>-0.020486</td>\n",
       "      <td>0.010297</td>\n",
       "      <td>0.173488</td>\n",
       "      <td>-0.332084</td>\n",
       "      <td>-0.580359</td>\n",
       "      <td>1.000000</td>\n",
       "    </tr>\n",
       "  </tbody>\n",
       "</table>\n",
       "</div>"
      ],
      "text/plain": [
       "                 CreditScore    Gender       Age    Tenure   Balance  \\\n",
       "CreditScore         1.000000 -0.002857 -0.003965  0.000842  0.006268   \n",
       "Gender             -0.002857  1.000000 -0.027544  0.014733  0.012087   \n",
       "Age                -0.003965 -0.027544  1.000000 -0.009997  0.028308   \n",
       "Tenure              0.000842  0.014733 -0.009997  1.000000 -0.012254   \n",
       "Balance             0.006268  0.012087  0.028308 -0.012254  1.000000   \n",
       "NumOfProducts       0.012238 -0.021859 -0.030680  0.013444 -0.304180   \n",
       "HasCrCard          -0.005458  0.005766 -0.011721  0.022583 -0.014858   \n",
       "IsActiveMember      0.025651  0.022544  0.085472 -0.028362 -0.010084   \n",
       "EstimatedSalary    -0.001384 -0.008112 -0.007201  0.007784  0.012797   \n",
       "Exited             -0.027094 -0.106512  0.285323 -0.014001  0.118533   \n",
       "banglore            0.004780  0.016889 -0.001685  0.003868 -0.134892   \n",
       "delhi              -0.008928  0.006772 -0.039208 -0.002848 -0.231329   \n",
       "mumbai              0.005538 -0.024628  0.046897 -0.000567  0.401110   \n",
       "\n",
       "                 NumOfProducts  HasCrCard  IsActiveMember  EstimatedSalary  \\\n",
       "CreditScore           0.012238  -0.005458        0.025651        -0.001384   \n",
       "Gender               -0.021859   0.005766        0.022544        -0.008112   \n",
       "Age                  -0.030680  -0.011721        0.085472        -0.007201   \n",
       "Tenure                0.013444   0.022583       -0.028362         0.007784   \n",
       "Balance              -0.304180  -0.014858       -0.010084         0.012797   \n",
       "NumOfProducts         1.000000   0.003183        0.009612         0.014204   \n",
       "HasCrCard             0.003183   1.000000       -0.011866        -0.009933   \n",
       "IsActiveMember        0.009612  -0.011866        1.000000        -0.011421   \n",
       "EstimatedSalary       0.014204  -0.009933       -0.011421         1.000000   \n",
       "Exited               -0.047820  -0.007138       -0.156128         0.012097   \n",
       "banglore              0.009039  -0.013480        0.016732        -0.006482   \n",
       "delhi                 0.001230   0.002467        0.003317        -0.003332   \n",
       "mumbai               -0.010419   0.010577       -0.020486         0.010297   \n",
       "\n",
       "                   Exited  banglore     delhi    mumbai  \n",
       "CreditScore     -0.027094  0.004780 -0.008928  0.005538  \n",
       "Gender          -0.106512  0.016889  0.006772 -0.024628  \n",
       "Age              0.285323 -0.001685 -0.039208  0.046897  \n",
       "Tenure          -0.014001  0.003868 -0.002848 -0.000567  \n",
       "Balance          0.118533 -0.134892 -0.231329  0.401110  \n",
       "NumOfProducts   -0.047820  0.009039  0.001230 -0.010419  \n",
       "HasCrCard       -0.007138 -0.013480  0.002467  0.010577  \n",
       "IsActiveMember  -0.156128  0.016732  0.003317 -0.020486  \n",
       "EstimatedSalary  0.012097 -0.006482 -0.003332  0.010297  \n",
       "Exited           1.000000 -0.052667 -0.104955  0.173488  \n",
       "banglore        -0.052667  1.000000 -0.575418 -0.332084  \n",
       "delhi           -0.104955 -0.575418  1.000000 -0.580359  \n",
       "mumbai           0.173488 -0.332084 -0.580359  1.000000  "
      ]
     },
     "execution_count": 22,
     "metadata": {},
     "output_type": "execute_result"
    }
   ],
   "source": [
    "#Now we find the correlation of all features.\n",
    "\n",
    "#As the correlation is always in the range of [-1,+1].\n",
    "#(1) If the corr is in the range of (0,1],then it is positive correlation.\n",
    "#(2) If the corr is in the range of [-1,0),then it is negative correlation.\n",
    "#(3) If the corr is 0,then it is independent.\n",
    "\n",
    "corr=churn_df.corr()\n",
    "\n",
    "corr"
   ]
  },
  {
   "cell_type": "code",
   "execution_count": 23,
   "id": "b619faa0-ba6b-4a28-acc7-49d9710bf1c9",
   "metadata": {},
   "outputs": [
    {
     "data": {
      "text/plain": [
       "Exited             1.000000\n",
       "Age                0.285323\n",
       "mumbai             0.173488\n",
       "Balance            0.118533\n",
       "EstimatedSalary    0.012097\n",
       "HasCrCard         -0.007138\n",
       "Tenure            -0.014001\n",
       "CreditScore       -0.027094\n",
       "NumOfProducts     -0.047820\n",
       "banglore          -0.052667\n",
       "delhi             -0.104955\n",
       "Gender            -0.106512\n",
       "IsActiveMember    -0.156128\n",
       "Name: Exited, dtype: float64"
      ]
     },
     "execution_count": 23,
     "metadata": {},
     "output_type": "execute_result"
    }
   ],
   "source": [
    "#Now we check the correlation of all features with the target variable i.e Exited.\n",
    "\n",
    "corr[\"Exited\"].sort_values(ascending=False)\n",
    "\n",
    "#So the column age,mumbai,balance are positive correlation.\n",
    "#And the column isactivemember,gender,delhi are negative correlation."
   ]
  },
  {
   "cell_type": "markdown",
   "id": "4ec1680e-5859-4581-8abf-fe1eeba00253",
   "metadata": {},
   "source": [
    "#### -------------------------------------------------------------------------------------------------\n",
    "### Data Visualization.\n",
    "\n",
    "##### In data visualization,we use matplotlib and seaborn library.\n",
    "\n",
    "##### As for simple visualization,we use matplotlib.\n",
    "\n",
    "##### And for statistic visualization,we use seaborn.\n",
    "\n",
    "##### By using visualization ,we easily get the insight of the dataset.\n",
    "\n",
    "##### Here we use countplot,barplot,scatterplot etc."
   ]
  },
  {
   "cell_type": "code",
   "execution_count": 24,
   "id": "8e772b3c-5339-4d4f-b607-73cc26bdd826",
   "metadata": {},
   "outputs": [
    {
     "data": {
      "image/png": "[encoded data removed]",
      "text/plain": [
       "<Figure size 640x480 with 1 Axes>"
      ]
     },
     "metadata": {},
     "output_type": "display_data"
    },
    {
     "data": {
      "text/plain": [
       "Exited\n",
       "0    7963\n",
       "1    2037\n",
       "Name: count, dtype: int64"
      ]
     },
     "execution_count": 24,
     "metadata": {},
     "output_type": "execute_result"
    }
   ],
   "source": [
    "#Firstly we get the countplot of Exited column.\n",
    "\n",
    "sns.countplot(data=churn_df,x=\"Exited\")\n",
    "plt.title(\"Countplot of Exited column\")\n",
    "plt.show()\n",
    "\n",
    "#Here we see that the Exited 0:7963 is thrice the Exited 1:2037.\n",
    "\n",
    "churn_df[\"Exited\"].value_counts()"
   ]
  },
  {
   "cell_type": "code",
   "execution_count": 25,
   "id": "976e1b55-95d3-42ec-a413-b2b251a86ee3",
   "metadata": {},
   "outputs": [
    {
     "data": {
      "text/plain": [
       "Index(['CreditScore', 'Gender', 'Age', 'Tenure', 'Balance', 'NumOfProducts',\n",
       "       'HasCrCard', 'IsActiveMember', 'EstimatedSalary', 'Exited', 'banglore',\n",
       "       'delhi', 'mumbai'],\n",
       "      dtype='object')"
      ]
     },
     "execution_count": 25,
     "metadata": {},
     "output_type": "execute_result"
    }
   ],
   "source": [
    "#Now here we check the columns names of updated dataset.\n",
    "\n",
    "churn_df.columns"
   ]
  },
  {
   "cell_type": "code",
   "execution_count": 26,
   "id": "2a5903b1-4a96-4741-9dc7-fdb8af9437c7",
   "metadata": {},
   "outputs": [
    {
     "data": {
      "image/png": "[encoded data removed]",
      "text/plain": [
       "<Figure size 640x480 with 1 Axes>"
      ]
     },
     "metadata": {},
     "output_type": "display_data"
    },
    {
     "data": {
      "image/png": "[encoded data removed]",
      "text/plain": [
       "<Figure size 640x480 with 1 Axes>"
      ]
     },
     "metadata": {},
     "output_type": "display_data"
    },
    {
     "data": {
      "image/png": "[encoded data removed]",
      "text/plain": [
       "<Figure size 640x480 with 1 Axes>"
      ]
     },
     "metadata": {},
     "output_type": "display_data"
    },
    {
     "data": {
      "image/png": "[encoded data removed]",
      "text/plain": [
       "<Figure size 640x480 with 1 Axes>"
      ]
     },
     "metadata": {},
     "output_type": "display_data"
    },
    {
     "data": {
      "image/png": "[encoded data removed]",
      "text/plain": [
       "<Figure size 640x480 with 1 Axes>"
      ]
     },
     "metadata": {},
     "output_type": "display_data"
    },
    {
     "data": {
      "image/png": "[encoded data removed]",
      "text/plain": [
       "<Figure size 640x480 with 1 Axes>"
      ]
     },
     "metadata": {},
     "output_type": "display_data"
    },
    {
     "data": {
      "image/png": "[encoded data removed]",
      "text/plain": [
       "<Figure size 640x480 with 1 Axes>"
      ]
     },
     "metadata": {},
     "output_type": "display_data"
    },
    {
     "data": {
      "image/png": "[encoded data removed]",
      "text/plain": [
       "<Figure size 640x480 with 1 Axes>"
      ]
     },
     "metadata": {},
     "output_type": "display_data"
    },
    {
     "data": {
      "image/png": "[encoded data removed]",
      "text/plain": [
       "<Figure size 640x480 with 1 Axes>"
      ]
     },
     "metadata": {},
     "output_type": "display_data"
    }
   ],
   "source": [
    "#Here we create the barplot for discrete columns.\n",
    "\n",
    "cols=['Gender','Tenure','NumOfProducts',\n",
    "       'HasCrCard', 'IsActiveMember', 'Exited', 'banglore',\n",
    "       'delhi', 'mumbai']\n",
    "\n",
    "\n",
    "for col in cols:\n",
    " sns.barplot(data=churn_df,x=col,y=\"Exited\")\n",
    " plt.title(f\"{col} Vs Exited\")\n",
    " plt.xlabel(f\"{col}\")\n",
    " plt.ylabel(\"Exited\")\n",
    " plt.show()\n",
    "\n",
    "#Conclusion: Here every column has some probability for Exited and on the basis of these we can do some required changes."
   ]
  },
  {
   "cell_type": "code",
   "execution_count": 27,
   "id": "bbf1ad15-819d-4a5c-99ab-f4c89539f46f",
   "metadata": {},
   "outputs": [
    {
     "data": {
      "image/png": "[encoded data removed]",
      "text/plain": [
       "<Figure size 640x480 with 1 Axes>"
      ]
     },
     "metadata": {},
     "output_type": "display_data"
    },
    {
     "data": {
      "image/png": "[encoded data removed]",
      "text/plain": [
       "<Figure size 640x480 with 1 Axes>"
      ]
     },
     "metadata": {},
     "output_type": "display_data"
    },
    {
     "data": {
      "image/png": "[encoded data removed]",
      "text/plain": [
       "<Figure size 640x480 with 1 Axes>"
      ]
     },
     "metadata": {},
     "output_type": "display_data"
    },
    {
     "data": {
      "image/png": "[encoded data removed]",
      "text/plain": [
       "<Figure size 640x480 with 1 Axes>"
      ]
     },
     "metadata": {},
     "output_type": "display_data"
    }
   ],
   "source": [
    "#Now here we plot the scatter plot for continous columns.\n",
    "\n",
    "#Here are some continous column.\n",
    "cols=['CreditScore','Age','Balance', 'EstimatedSalary']\n",
    "\n",
    "for col in cols:\n",
    " sns.scatterplot(data=churn_df,x=col,y=\"Exited\")\n",
    " plt.title(f\"{col} Vs Exited\")\n",
    " plt.xlabel(f\"{col}\")\n",
    " plt.ylabel(\"Exited\")\n",
    " plt.show()"
   ]
  },
  {
   "cell_type": "markdown",
   "id": "b0672fa0-68b2-4302-b5ef-f0213f952fae",
   "metadata": {},
   "source": [
    "#### ---------------------------------------------------------------------------------------------\n",
    "### Now here we select dependent and Independent Feature.\n",
    "\n",
    "##### (1) Independent features are those which is used to predict the value of dependent feature.\n",
    "\n",
    "##### (2) Dependent feature is that one variable whose value we predict by using all independent feature."
   ]
  },
  {
   "cell_type": "code",
   "execution_count": 28,
   "id": "a051bb0d-b023-4ded-a2e8-7ae2d9f2f2bc",
   "metadata": {},
   "outputs": [],
   "source": [
    "#Here we select the dependent and independent feature of churn dataset.\n",
    "\n",
    "x=churn_df.drop(\"Exited\",axis=1) #Independent features.\n",
    "\n",
    "y=churn_df[\"Exited\"] #Dependent feature."
   ]
  },
  {
   "cell_type": "code",
   "execution_count": 29,
   "id": "37a75bf3-0cee-4e08-8da0-aa3b1c41d2b1",
   "metadata": {},
   "outputs": [
    {
     "name": "stdout",
     "output_type": "stream",
     "text": [
      "The shape of independent feature is: (10000, 12).\n",
      "The shape of dependent feature is: (10000,).\n"
     ]
    }
   ],
   "source": [
    "#Now here we select the shape of dependent and Independent feature.\n",
    "\n",
    "print(f\"The shape of independent feature is: {x.shape}.\")\n",
    "\n",
    "#The shape of independent feature is (10000,12).\n",
    "\n",
    "print(f\"The shape of dependent feature is: {y.shape}.\")\n",
    "\n",
    "#The shape of dependent feature is (10000,)."
   ]
  },
  {
   "cell_type": "markdown",
   "id": "4517db6a-50c0-4a8b-9701-faab9dea1ba1",
   "metadata": {},
   "source": [
    "#### ---------------------------------------------------------------------------------------------------\n",
    "### Now here we do train and test split.\n",
    "\n",
    "##### As we always split the dataset into train and test dataset and we always maintain the split in equal ratio.\n",
    "\n",
    "##### The different ratios are 70-30,75-25,80-20,85-15.\n",
    "\n",
    "##### The train data is used to train the model and defines the feature to the model.\n",
    "\n",
    "##### The test data is used to predict the values using the trained model."
   ]
  },
  {
   "cell_type": "code",
   "execution_count": 30,
   "id": "ad2e6cdb-62cb-4c62-8bb4-94226aab8b75",
   "metadata": {},
   "outputs": [],
   "source": [
    "#Here we split the dataset into train-test data.\n",
    "\n",
    "#Here we split the dataset into 80-20 and random_state is 0.\n",
    "x_train,x_test,y_train,y_test=train_test_split(x,y,test_size=0.2,random_state=0)"
   ]
  },
  {
   "cell_type": "code",
   "execution_count": 31,
   "id": "e63e4557-f90a-4193-824d-6832b5ac816e",
   "metadata": {},
   "outputs": [
    {
     "name": "stdout",
     "output_type": "stream",
     "text": [
      "The shape of x_train is: (8000, 12).\n",
      "The shape of x_test is: (2000, 12).\n",
      "The shape of y_train is: (8000,).\n",
      "The shape of y_test is: (2000,).\n"
     ]
    }
   ],
   "source": [
    "#Now we check the shape of x-train/test and y-train/test.\n",
    "\n",
    "print(f\"The shape of x_train is: {x_train.shape}.\")\n",
    "\n",
    "#The shape of x_train is (8000,12).\n",
    "\n",
    "print(f\"The shape of x_test is: {x_test.shape}.\")\n",
    "\n",
    "#The shape of x_test is (2000,12).\n",
    "\n",
    "print(f\"The shape of y_train is: {y_train.shape}.\")\n",
    "\n",
    "#The shape of y_train is (8000,)\n",
    "\n",
    "print(f\"The shape of y_test is: {y_test.shape}.\")\n",
    "\n",
    "#The shape of y_test is (2000,)."
   ]
  },
  {
   "cell_type": "markdown",
   "id": "df6ba7b0-330b-4cb7-8ec0-b822031b9690",
   "metadata": {},
   "source": [
    "#### -----------------------------------------------------------------------------------------------\n",
    "### Now here we do standard scaling of x_train and x_test.\n",
    "\n",
    "##### As the standard scaling is also known as z-score.\n",
    "\n",
    "##### Here we find the z-score and scaled the data into the range of -3 to +3.\n",
    "\n",
    "##### Formula of z_score is: z=(x-u)/s,where u=0 and s=1."
   ]
  },
  {
   "cell_type": "code",
   "execution_count": 32,
   "id": "e0790571-bed5-4b52-8d42-2501f5d38c89",
   "metadata": {},
   "outputs": [],
   "source": [
    "#Here we do the scaling of dataset.\n",
    "\n",
    "#Here we create standard scaler model object.\n",
    "sc=StandardScaler()\n",
    "\n",
    "#Here we scaled the x_train data using sc object.\n",
    "x_train_sc=sc.fit_transform(x_train)\n",
    "\n",
    "#Here we scaled the x_test data using sc object.\n",
    "x_test_sc=sc.transform(x_test)"
   ]
  },
  {
   "cell_type": "markdown",
   "id": "d2186f85-8371-4f35-87d1-4780c9904d24",
   "metadata": {},
   "source": [
    "#### ----------------------------------------------------------------------------------------------\n",
    "### Now we implement the classifier model."
   ]
  },
  {
   "cell_type": "markdown",
   "id": "1799ad23-f844-4881-a545-23d10e3b49c6",
   "metadata": {},
   "source": [
    "#### ------------------------------------------------------------------------------------------------\n",
    "### (1) Logistic Regression model.\n",
    "\n",
    "##### As the logistic regression model uses the sigmoid function.\n",
    "\n",
    "##### This is one of the probability based machine learning model.\n",
    "\n",
    "##### Here we adjust the outliers and resolve the problem.\n",
    "\n",
    "##### Here we created s-curve.\n",
    "\n",
    "##### Here the condition is we make one threshold value and in case the value equals to or greater than threshold then it is true,\n",
    "\n",
    "##### and if value is less than threshold than it is false.\n",
    "\n",
    "##### Formula of sigmoid function: y=1/(1+e^-x)"
   ]
  },
  {
   "cell_type": "code",
   "execution_count": 33,
   "id": "81510cc0-77d4-4cc3-9995-da0ce43ed4e8",
   "metadata": {},
   "outputs": [
    {
     "name": "stdout",
     "output_type": "stream",
     "text": [
      "The bias of lor model is: 0.789875.\n",
      "The variance of lor model is: 0.789.\n"
     ]
    }
   ],
   "source": [
    "#1(a) Here we use Logistic regression on original data.\n",
    "\n",
    "#Here we create logistic regression model object.\n",
    "lor=LogisticRegression()\n",
    "\n",
    "#Here we train the lor model on original data.\n",
    "lor.fit(x_train,y_train)\n",
    "\n",
    "#Here we predict the values corresponding to x_test using lor model.\n",
    "y_pred_lor=lor.predict(x_test)\n",
    "\n",
    "#Here we find the bias of lor model.\n",
    "bias_lor=lor.score(x_train,y_train)\n",
    "print(f\"The bias of lor model is: {bias_lor}.\")\n",
    "\n",
    "#Here we find the variance of lor model.\n",
    "variance_lor=lor.score(x_test,y_test)\n",
    "print(f\"The variance of lor model is: {variance_lor}.\")"
   ]
  },
  {
   "cell_type": "code",
   "execution_count": 34,
   "id": "44719a94-8419-4026-aab6-30391334e705",
   "metadata": {},
   "outputs": [
    {
     "name": "stdout",
     "output_type": "stream",
     "text": [
      "The bias of lor1 model is: 0.8085.\n",
      "The variance of lor1 model is: 0.811.\n"
     ]
    }
   ],
   "source": [
    "#1(a) Here we use Logistic regression on scaled data.\n",
    "\n",
    "#Here we create logistic regression model object.\n",
    "lor1=LogisticRegression()\n",
    "\n",
    "#Here we train the lor1 model on scaled data.\n",
    "lor1.fit(x_train_sc,y_train)\n",
    "\n",
    "#Here we predict the values corresponding to x_test_sc using lor1 model.\n",
    "y_pred_lor1=lor1.predict(x_test_sc)\n",
    "\n",
    "#Here we find the bias of lor1 model.\n",
    "bias_lor1=lor1.score(x_train_sc,y_train)\n",
    "print(f\"The bias of lor1 model is: {bias_lor1}.\")\n",
    "\n",
    "#Here we find the variance of lor1 model.\n",
    "variance_lor1=lor1.score(x_test_sc,y_test)\n",
    "print(f\"The variance of lor1 model is: {variance_lor1}.\")"
   ]
  },
  {
   "cell_type": "markdown",
   "id": "e57f4723-7313-4bb4-b2fe-766f4c5fa301",
   "metadata": {},
   "source": [
    "#### ----------------------------------------------------------------------------------------------\n",
    "### Conclusion of Logistic Regression model.\n",
    "\n",
    "##### The lor1 has bias 80.85% and variance has 81.10%.\n",
    "\n",
    "##### The lor has bias 78.98 and variance has 78.90%.\n",
    "\n",
    "#### -----------------------------------------------------------------------------------------------"
   ]
  },
  {
   "cell_type": "code",
   "execution_count": 35,
   "id": "240efb62-ca95-4cb0-be63-b03c1b48ddd9",
   "metadata": {},
   "outputs": [
    {
     "name": "stdout",
     "output_type": "stream",
     "text": [
      "The train accuracy of lor1 model is: 0.8085.\n",
      "\n",
      "The test accuracy of lor1 model is: 0.811.\n",
      "\n",
      "The confusion matrix of lor1 model is: \n",
      "[[1526   69]\n",
      " [ 309   96]]\n",
      "\n",
      "The dataframe of confusion matrix is: \n",
      "                 Actual Yes:1  Actual No:0\n",
      "Predicted Yes:1          1526           69\n",
      "Predicted No:0            309           96\n",
      "\n",
      "\n",
      "The accuracy of lor1 model using confusion matrix is: 0.811.\n",
      "\n",
      "The error of lor1 model using confusion matrix is: 0.18899999999999995.\n",
      "\n",
      "The precision of lor1 model using confusion matrix is: 0.9567398119122257.\n",
      "\n",
      "The recall of lor1 model using confusion matrix is: 0.8316076294277929.\n",
      "\n",
      "The f1_scoreof lor1 model using confusion matrix is: 0.8897959183673468.\n",
      "\n",
      "The true positive ratio of lor1 model using confusion matrix is: 0.8316076294277929.\n",
      "\n",
      "The false positive ratio of lor1 model using confusion matrix is: 0.41818181818181815.\n",
      "\n",
      "The classification report of lor1 model is:               precision    recall  f1-score   support\n",
      "\n",
      "           0       0.83      0.96      0.89      1595\n",
      "           1       0.58      0.24      0.34       405\n",
      "\n",
      "    accuracy                           0.81      2000\n",
      "   macro avg       0.71      0.60      0.61      2000\n",
      "weighted avg       0.78      0.81      0.78      2000\n",
      ".\n",
      "\n"
     ]
    },
    {
     "data": {
      "image/png": "[encoded data removed]",
      "text/plain": [
       "<Figure size 640x480 with 2 Axes>"
      ]
     },
     "metadata": {},
     "output_type": "display_data"
    }
   ],
   "source": [
    "#Now we find the statistics of lor1 model.\n",
    "\n",
    "#firstly we find the train and test accuracy of lor1 model.\n",
    "\n",
    "#Train accuracy of lor1 model.\n",
    "y_train_pred_lor1=lor1.predict(x_train_sc)\n",
    "ac_train_lor1=accuracy_score(y_train,y_train_pred_lor1)\n",
    "print(f\"The train accuracy of lor1 model is: {ac_train_lor1}.\")\n",
    "print()\n",
    "\n",
    "#Test accuracy of lor1 model.\n",
    "ac_test_lor1=accuracy_score(y_test,y_pred_lor1)\n",
    "print(f\"The test accuracy of lor1 model is: {ac_test_lor1}.\")\n",
    "print()\n",
    "\n",
    "#Now we find the confusion matrix of lor1 model.\n",
    "cm_lor1=confusion_matrix(y_test,y_pred_lor1)\n",
    "print(\"The confusion matrix of lor1 model is: \")\n",
    "print(cm_lor1)\n",
    "print()\n",
    "\n",
    "#Now here we create the dataframe of confusion matrix of lor1 model.\n",
    "cm_lor1_df=pd.DataFrame(cm_lor1,columns=[\"Actual Yes:1\",\"Actual No:0\"],index=[\"Predicted Yes:1\",\"Predicted No:0\"])\n",
    "print(\"The dataframe of confusion matrix is: \")\n",
    "print(cm_lor1_df)\n",
    "print()\n",
    "\n",
    "#Now here we make the heatmap of confusion matrix of lor1 model.\n",
    "sns.heatmap(cm_lor1_df,annot=True,fmt=\"d\",cmap=\"YlGnBu\")\n",
    "print()\n",
    "\n",
    "#Now we find the terminologies of confusion matrix.\n",
    "\n",
    "tp_lor1=cm_lor1[0,0] #True positive.\n",
    "tn_lor1=cm_lor1[1,1] #True  negative.\n",
    "fp_lor1=cm_lor1[0,1] #False Positive.\n",
    "fn_lor1=cm_lor1[1,0] #False negative.\n",
    "\n",
    "#Now we find the terms related to confusion matrix.\n",
    "\n",
    "#Here we find the accuracy of lor1 model using confusion matrix. \n",
    "ac_cm_lor1=(tp_lor1+tn_lor1)/(tp_lor1+tn_lor1+fp_lor1+fn_lor1)\n",
    "print(f\"The accuracy of lor1 model using confusion matrix is: {ac_cm_lor1}.\")\n",
    "print()\n",
    "\n",
    "#Here we find the error of lor1 model using confusion matrix.\n",
    "error_cm_lor1=1-ac_cm_lor1\n",
    "print(f\"The error of lor1 model using confusion matrix is: {error_cm_lor1}.\")\n",
    "print()\n",
    "\n",
    "#Here we find the precision of lor1 model using confusion matrix. \n",
    "precision_cm_lor1=(tp_lor1)/(tp_lor1+fp_lor1)\n",
    "print(f\"The precision of lor1 model using confusion matrix is: {precision_cm_lor1}.\")\n",
    "print()\n",
    "\n",
    "#Here we find the recall of lor1 model using confusion matrix. \n",
    "recall_cm_lor1=(tp_lor1)/(tp_lor1+fn_lor1)\n",
    "print(f\"The recall of lor1 model using confusion matrix is: {recall_cm_lor1}.\")\n",
    "print()\n",
    "\n",
    "#Here we find the f1_score of lor1 model using confusion matrix. \n",
    "f1_score_cm_lor1=(2*precision_cm_lor1*recall_cm_lor1)/(precision_cm_lor1+recall_cm_lor1)\n",
    "print(f\"The f1_scoreof lor1 model using confusion matrix is: {f1_score_cm_lor1}.\")\n",
    "print()\n",
    "\n",
    "#Here we find the true positive ratio of lor1 model using confusion matrix. \n",
    "tpr_cm_lor1=(tp_lor1)/(tp_lor1+fn_lor1)\n",
    "print(f\"The true positive ratio of lor1 model using confusion matrix is: {tpr_cm_lor1}.\")\n",
    "print()\n",
    "\n",
    "#Here we find the false positive ratio of lor1 model using confusion matrix. \n",
    "fpr_cm_lor1=(fp_lor1)/(fp_lor1+tn_lor1)\n",
    "print(f\"The false positive ratio of lor1 model using confusion matrix is: {fpr_cm_lor1}.\")\n",
    "print()\n",
    "\n",
    "#Now here we find the classification report of lor1 model.\n",
    "cr_lor1=classification_report(y_test,y_pred_lor1)\n",
    "print(f\"The classification report of lor1 model is: {cr_lor1}.\")\n",
    "print()"
   ]
  },
  {
   "cell_type": "markdown",
   "id": "031b41c9-dee6-4938-aec2-5625d4804574",
   "metadata": {},
   "source": [
    "#### ----------------------------------------------------------------------------------------------\n",
    "### Conclusion of statistics of lor1 model.\n",
    "\n",
    "##### As the train acuuracy and test accuracy is very high and difference is very small,so it is best fit model.\n",
    "\n",
    "##### As the error is 19%,precision is 95.67%,recall is 83%,f1_score is 88.97%.\n",
    "\n",
    "##### As the tpr is 83.16% and fpr is 41.81%.\n",
    "\n",
    "#### ------------------------------------------------------------------------------------------------"
   ]
  },
  {
   "cell_type": "code",
   "execution_count": 36,
   "id": "19e8888b-6b8d-4368-99b2-2120c9900ce0",
   "metadata": {},
   "outputs": [
    {
     "name": "stdout",
     "output_type": "stream",
     "text": [
      "The accuracy of cross validation of lor1 model is: 0.790625.\n",
      "The standard deviation of cross validation of lor1 model is: 0.008067101400131284.\n",
      "The variance of cross validation of lor1 model is: 6.507812500000011e-05.\n"
     ]
    }
   ],
   "source": [
    "#Now here we try the cross validation on lor1 model.\n",
    "\n",
    "scores=cross_val_score(estimator=lor1,X=x_train,y=y_train,cv=10)\n",
    "\n",
    "print(f\"The accuracy of cross validation of lor1 model is: {scores.mean()}.\")\n",
    "\n",
    "print(f\"The standard deviation of cross validation of lor1 model is: {scores.std()}.\")\n",
    "\n",
    "print(f\"The variance of cross validation of lor1 model is: {scores.var()}.\")"
   ]
  },
  {
   "cell_type": "markdown",
   "id": "043bbacd-6b65-4120-abb5-dead7519128e",
   "metadata": {},
   "source": [
    "#### ----------------------------------------------------------------------------------------------\n",
    "### Conclusion of cross validation on lor1 model.\n",
    "\n",
    "##### As the accuracy not increases so much.\n",
    "\n",
    "##### The standard deviation is 0.008.\n",
    "\n",
    "##### The variance is 0.00065.\n",
    "\n",
    "#### ------------------------------------------------------------------------------------------------"
   ]
  },
  {
   "cell_type": "code",
   "execution_count": 37,
   "id": "503692ed-e46e-428a-850c-5d95be86cd5e",
   "metadata": {},
   "outputs": [],
   "source": [
    "#Now we apply support vector classifier."
   ]
  },
  {
   "cell_type": "markdown",
   "id": "ad95307e-deb2-414c-a2df-c63785119fdb",
   "metadata": {},
   "source": [
    "#### ------------------------------------------------------------------------------------------------\n",
    "### (2) Support Vector Classifier model.\n",
    "\n",
    "##### As the support vector classifier model uses the concept of support vector machine.\n",
    "\n",
    "##### In this we use the different components such as Hyperplane,decision boundary,support vector,margin.\n",
    "\n",
    "##### Here the Hyperplane is same as that of best fit line of ml regression model.\n",
    "\n",
    "##### Then we select the nearest point of both the category and this is known as support vector. \n",
    "\n",
    "##### Then we make the line parallel to the hyperplane which touches the support vector and this is decision boundary.\n",
    "\n",
    "##### The complete distance between the decision line is margin.\n",
    "\n",
    "##### As the criterion is we find the min of ||w||/2.\n",
    "\n",
    "##### And the cost function is min(||w||/2)+C(summation of eta).\n",
    "\n",
    "##### As whenever the wx+b>0 then it is true classification,otherwise it is false classification."
   ]
  },
  {
   "cell_type": "code",
   "execution_count": 38,
   "id": "5212fb17-413d-4500-bb50-f13e11ef6f75",
   "metadata": {},
   "outputs": [
    {
     "name": "stdout",
     "output_type": "stream",
     "text": [
      "The bias of svc model is: 0.796.\n",
      "The variance of svc model is: 0.7975.\n"
     ]
    }
   ],
   "source": [
    "#2(a) Here we use support vector classifier on original data.\n",
    "\n",
    "#Here we create support vector classifier model object.\n",
    "svc=SVC()\n",
    "\n",
    "#Here we train the svc model on original data.\n",
    "svc.fit(x_train,y_train)\n",
    "\n",
    "#Here we predict the values corresponding to x_test using svc model.\n",
    "y_pred_svc=svc.predict(x_test)\n",
    "\n",
    "#Here we find the bias of svc model.\n",
    "bias_svc=svc.score(x_train,y_train)\n",
    "print(f\"The bias of svc model is: {bias_svc}.\")\n",
    "\n",
    "#Here we find the variance of svc model.\n",
    "variance_svc=svc.score(x_test,y_test)\n",
    "print(f\"The variance of svc model is: {variance_svc}.\")"
   ]
  },
  {
   "cell_type": "code",
   "execution_count": 39,
   "id": "87ff0d00-9700-4155-ab54-15a9e8488b6e",
   "metadata": {},
   "outputs": [
    {
     "name": "stdout",
     "output_type": "stream",
     "text": [
      "The bias of svc1 model is: 0.864875.\n",
      "The variance of svc1 model is: 0.865.\n"
     ]
    }
   ],
   "source": [
    "#2(b) Here we use support vector classifier on scaled data.\n",
    "\n",
    "#Here we create support vector classifier model object.\n",
    "svc1=SVC()\n",
    "\n",
    "#Here we train the svc1 model on scaled data.\n",
    "svc1.fit(x_train_sc,y_train)\n",
    "\n",
    "#Here we predict the values corresponding to x_test_sc using svc1 model.\n",
    "y_pred_svc1=svc1.predict(x_test_sc)\n",
    "\n",
    "#Here we find the bias of svc1 model.\n",
    "bias_svc1=svc1.score(x_train_sc,y_train)\n",
    "print(f\"The bias of svc1 model is: {bias_svc1}.\")\n",
    "\n",
    "#Here we find the variance of svc1 model.\n",
    "variance_svc1=svc1.score(x_test_sc,y_test)\n",
    "print(f\"The variance of svc1 model is: {variance_svc1}.\")"
   ]
  },
  {
   "cell_type": "markdown",
   "id": "37d43fc9-f19b-4d83-a127-e16c14709b72",
   "metadata": {},
   "source": [
    "#### ----------------------------------------------------------------------------------------------\n",
    "### Conclusion of Support Vector Classifier model.\n",
    "\n",
    "##### The svc1 has bias 86.48% and variance has 86.50%.\n",
    "\n",
    "##### The svc has bias 79.60 and variance has 79.75%.\n",
    "\n",
    "#### -----------------------------------------------------------------------------------------------"
   ]
  },
  {
   "cell_type": "code",
   "execution_count": 40,
   "id": "92098ccd-4e8d-4624-b175-ce7c421bd41f",
   "metadata": {},
   "outputs": [
    {
     "name": "stdout",
     "output_type": "stream",
     "text": [
      "The train accuracy of svc1 model is: 0.864875.\n",
      "\n",
      "The test accuracy of svc1 model is: 0.865.\n",
      "\n",
      "The confusion matrix of svc1 model is: \n",
      "[[1550   45]\n",
      " [ 225  180]]\n",
      "\n",
      "The dataframe of confusion matrix is: \n",
      "                 Actual Yes:1  Actual No:0\n",
      "Predicted Yes:1          1550           45\n",
      "Predicted No:0            225          180\n",
      "\n",
      "\n",
      "The accuracy of svc1 model using confusion matrix is: 0.865.\n",
      "\n",
      "The error of svc1 model using confusion matrix is: 0.135.\n",
      "\n",
      "The precision of svc1 model using confusion matrix is: 0.9717868338557993.\n",
      "\n",
      "The recall of svc1 model using confusion matrix is: 0.8732394366197183.\n",
      "\n",
      "The f1_scoreof svc1 model using confusion matrix is: 0.9198813056379821.\n",
      "\n",
      "The true positive ratio of svc1 model using confusion matrix is: 0.8732394366197183.\n",
      "\n",
      "The false positive ratio of svc1 model using confusion matrix is: 0.2.\n",
      "\n",
      "The classification report of svc1 model is:               precision    recall  f1-score   support\n",
      "\n",
      "           0       0.87      0.97      0.92      1595\n",
      "           1       0.80      0.44      0.57       405\n",
      "\n",
      "    accuracy                           0.86      2000\n",
      "   macro avg       0.84      0.71      0.75      2000\n",
      "weighted avg       0.86      0.86      0.85      2000\n",
      ".\n",
      "\n"
     ]
    },
    {
     "data": {
      "image/png": "[encoded data removed]",
      "text/plain": [
       "<Figure size 640x480 with 2 Axes>"
      ]
     },
     "metadata": {},
     "output_type": "display_data"
    }
   ],
   "source": [
    "#Now we find the statistics of svc1 model.\n",
    "\n",
    "#firstly we find the train and test accuracy of svc1 model.\n",
    "\n",
    "#Train accuracy of svc1 model.\n",
    "y_train_pred_svc1=svc1.predict(x_train_sc)\n",
    "ac_train_svc1=accuracy_score(y_train,y_train_pred_svc1)\n",
    "print(f\"The train accuracy of svc1 model is: {ac_train_svc1}.\")\n",
    "print()\n",
    "\n",
    "#Test accuracy of svc1 model.\n",
    "ac_test_svc1=accuracy_score(y_test,y_pred_svc1)\n",
    "print(f\"The test accuracy of svc1 model is: {ac_test_svc1}.\")\n",
    "print()\n",
    "\n",
    "#Now we find the confusion matrix of svc1 model.\n",
    "cm_svc1=confusion_matrix(y_test,y_pred_svc1)\n",
    "print(\"The confusion matrix of svc1 model is: \")\n",
    "print(cm_svc1)\n",
    "print()\n",
    "\n",
    "#Now here we create the dataframe of confusion matrix of svc1 model.\n",
    "cm_svc1_df=pd.DataFrame(cm_svc1,columns=[\"Actual Yes:1\",\"Actual No:0\"],index=[\"Predicted Yes:1\",\"Predicted No:0\"])\n",
    "print(\"The dataframe of confusion matrix is: \")\n",
    "print(cm_svc1_df)\n",
    "print()\n",
    "\n",
    "#Now here we make the heatmap of confusion matrix of svc1 model.\n",
    "sns.heatmap(cm_svc1_df,annot=True,fmt=\"d\",cmap=\"YlGnBu\")\n",
    "print()\n",
    "\n",
    "#Now we find the terminologies of confusion matrix.\n",
    "\n",
    "tp_svc1=cm_svc1[0,0] #True positive.\n",
    "tn_svc1=cm_svc1[1,1] #True  negative.\n",
    "fp_svc1=cm_svc1[0,1] #False Positive.\n",
    "fn_svc1=cm_svc1[1,0] #False negative.\n",
    "\n",
    "#Now we find the terms related to confusion matrix.\n",
    "\n",
    "#Here we find the accuracy of svc1 model using confusion matrix. \n",
    "ac_cm_svc1=(tp_svc1+tn_svc1)/(tp_svc1+tn_svc1+fp_svc1+fn_svc1)\n",
    "print(f\"The accuracy of svc1 model using confusion matrix is: {ac_cm_svc1}.\")\n",
    "print()\n",
    "\n",
    "#Here we find the error of svc1 model using confusion matrix.\n",
    "error_cm_svc1=1-ac_cm_svc1\n",
    "print(f\"The error of svc1 model using confusion matrix is: {error_cm_svc1}.\")\n",
    "print()\n",
    "\n",
    "#Here we find the precision of svc1 model using confusion matrix. \n",
    "precision_cm_svc1=(tp_svc1)/(tp_svc1+fp_svc1)\n",
    "print(f\"The precision of svc1 model using confusion matrix is: {precision_cm_svc1}.\")\n",
    "print()\n",
    "\n",
    "#Here we find the recall of svc1 model using confusion matrix. \n",
    "recall_cm_svc1=(tp_svc1)/(tp_svc1+fn_svc1)\n",
    "print(f\"The recall of svc1 model using confusion matrix is: {recall_cm_svc1}.\")\n",
    "print()\n",
    "\n",
    "#Here we find the f1_score of svc1 model using confusion matrix. \n",
    "f1_score_cm_svc1=(2*precision_cm_svc1*recall_cm_svc1)/(precision_cm_svc1+recall_cm_svc1)\n",
    "print(f\"The f1_scoreof svc1 model using confusion matrix is: {f1_score_cm_svc1}.\")\n",
    "print()\n",
    "\n",
    "#Here we find the true positive ratio of svc1 model using confusion matrix. \n",
    "tpr_cm_svc1=(tp_svc1)/(tp_svc1+fn_svc1)\n",
    "print(f\"The true positive ratio of svc1 model using confusion matrix is: {tpr_cm_svc1}.\")\n",
    "print()\n",
    "\n",
    "#Here we find the false positive ratio of svc1 model using confusion matrix. \n",
    "fpr_cm_svc1=(fp_svc1)/(fp_svc1+tn_svc1)\n",
    "print(f\"The false positive ratio of svc1 model using confusion matrix is: {fpr_cm_svc1}.\")\n",
    "print()\n",
    "\n",
    "#Now here we find the classification report of svc1 model.\n",
    "cr_svc1=classification_report(y_test,y_pred_svc1)\n",
    "print(f\"The classification report of svc1 model is: {cr_svc1}.\")\n",
    "print()"
   ]
  },
  {
   "cell_type": "markdown",
   "id": "254ae413-846c-4b5a-b2dd-69325778d934",
   "metadata": {},
   "source": [
    "#### ----------------------------------------------------------------------------------------------\n",
    "### Conclusion of statistics of svc1 model.\n",
    "\n",
    "##### As the train acuuracy and test accuracy is very high and difference is very small,so it is best fit model.\n",
    "\n",
    "##### As the error is 13%,precision is 97.17%,recall is 87.32%,f1_score is 91.98%.\n",
    "\n",
    "##### As the tpr is 87.32% and fpr is 20%.\n",
    "\n",
    "#### ------------------------------------------------------------------------------------------------\n"
   ]
  },
  {
   "cell_type": "code",
   "execution_count": 41,
   "id": "64daf8f8-9aa1-4aa0-9547-5bd1f3b652e5",
   "metadata": {},
   "outputs": [
    {
     "name": "stdout",
     "output_type": "stream",
     "text": [
      "The accuracy of cross validation of svc1 model is: 0.796.\n",
      "The standard deviation of cross validation of svc1 model is: 0.0004999999999999894.\n",
      "The variance of cross validation of svc1 model is: 2.4999999999998935e-07.\n"
     ]
    }
   ],
   "source": [
    "#Now here we try the cross validation on svc1 model.\n",
    "\n",
    "scores=cross_val_score(estimator=svc1,X=x_train,y=y_train,cv=10)\n",
    "\n",
    "print(f\"The accuracy of cross validation of svc1 model is: {scores.mean()}.\")\n",
    "\n",
    "print(f\"The standard deviation of cross validation of svc1 model is: {scores.std()}.\")\n",
    "\n",
    "print(f\"The variance of cross validation of svc1 model is: {scores.var()}.\")"
   ]
  },
  {
   "cell_type": "markdown",
   "id": "b38e5364-d10d-4da6-afe9-4ec806c042a3",
   "metadata": {},
   "source": [
    "#### ----------------------------------------------------------------------------------------------\n",
    "### Conclusion of cross validation on svc1 model.\n",
    "\n",
    "##### As the accuracy decreases to 79.6%.\n",
    "\n",
    "##### The standard deviation is 0.0004.\n",
    "\n",
    "##### The variance is 0.00024.\n",
    "\n",
    "#### ------------------------------------------------------------------------------------------------"
   ]
  },
  {
   "cell_type": "code",
   "execution_count": 42,
   "id": "002a4fe3-5e7a-40e2-9e79-6111dc417594",
   "metadata": {},
   "outputs": [],
   "source": [
    "#Now we apply knearest neighbour classifier."
   ]
  },
  {
   "cell_type": "markdown",
   "id": "5d4300a3-745c-4195-b15a-6681c1d4efa7",
   "metadata": {},
   "source": [
    "#### ------------------------------------------------------------------------------------------------\n",
    "### (3) Knearest neighbour classifier model.\n",
    "\n",
    "##### As the knearest neighbour classifier model uses the concept of distance matrix.\n",
    "\n",
    "##### In this we use the different distance matrix such as manhattan and euclidean distance.\n",
    "\n",
    "##### Now we select the k value firstly i.e the no of neighbours.\n",
    "\n",
    "##### Then we find the distance of all data points from the new data value. \n",
    "\n",
    "##### Then we select the k nearest values on the basis of distance.\n",
    "\n",
    "##### After that we count the data point belongs to different category.\n",
    "\n",
    "##### Then we check which category has maximum values.\n",
    "\n",
    "##### Then we assign the new data point to that class.\n",
    "\n",
    "##### As the euclidean distance is also known as far distance and manhattan is shorter distance."
   ]
  },
  {
   "cell_type": "code",
   "execution_count": 43,
   "id": "fef5aa78-1e0f-4ddb-8750-38429cbe2075",
   "metadata": {},
   "outputs": [
    {
     "name": "stdout",
     "output_type": "stream",
     "text": [
      "The bias of knc model is: 0.816.\n",
      "The variance of knc model is: 0.7645.\n"
     ]
    }
   ],
   "source": [
    "#3(a) Here we use knearest neighbour classifier on original data.\n",
    "\n",
    "#Here we create knearest neighbour classifier model object.\n",
    "knc=KNeighborsClassifier()\n",
    "\n",
    "#Here we train the knc model on original data.\n",
    "knc.fit(x_train,y_train)\n",
    "\n",
    "#Here we predict the values corresponding to x_test using knc model.\n",
    "y_pred_knc=knc.predict(x_test)\n",
    "\n",
    "#Here we find the bias of knc model.\n",
    "bias_knc=knc.score(x_train,y_train)\n",
    "print(f\"The bias of knc model is: {bias_knc}.\")\n",
    "\n",
    "#Here we find the variance of knc model.\n",
    "variance_knc=knc.score(x_test,y_test)\n",
    "print(f\"The variance of knc model is: {variance_knc}.\")"
   ]
  },
  {
   "cell_type": "code",
   "execution_count": 44,
   "id": "007818a2-ba8f-4bb5-b7a3-bfeb44e825fb",
   "metadata": {},
   "outputs": [
    {
     "name": "stdout",
     "output_type": "stream",
     "text": [
      "The bias of knc1 model is: 0.871375.\n",
      "The variance of knc1 model is: 0.827.\n"
     ]
    }
   ],
   "source": [
    "#3(b) Here we use knearest neighbour classifier on scaled data.\n",
    "\n",
    "#Here we create knearest neighbour classifier model object.\n",
    "knc1=KNeighborsClassifier()\n",
    "\n",
    "#Here we train the knc1 model on scaled data.\n",
    "knc1.fit(x_train_sc,y_train)\n",
    "\n",
    "#Here we predict the values corresponding to x_test_sc using knc1 model.\n",
    "y_pred_knc1=knc1.predict(x_test_sc)\n",
    "\n",
    "#Here we find the bias of knc1 model.\n",
    "bias_knc1=knc1.score(x_train_sc,y_train)\n",
    "print(f\"The bias of knc1 model is: {bias_knc1}.\")\n",
    "\n",
    "#Here we find the variance of knc1 model.\n",
    "variance_knc1=knc1.score(x_test_sc,y_test)\n",
    "print(f\"The variance of knc1 model is: {variance_knc1}.\")"
   ]
  },
  {
   "cell_type": "markdown",
   "id": "9350b374-182c-46b9-b2c1-f96a8ac12fa1",
   "metadata": {},
   "source": [
    "#### ----------------------------------------------------------------------------------------------\n",
    "### Conclusion of knearest neighbour Classifier model.\n",
    "\n",
    "##### The knc1 has bias 87.13% and variance has 82.70%.\n",
    "\n",
    "##### The knc has bias 81.60 and variance has 76.45%.\n",
    "\n",
    "#### -----------------------------------------------------------------------------------------------"
   ]
  },
  {
   "cell_type": "code",
   "execution_count": 45,
   "id": "4501d653-ea67-4363-b592-26029454ea21",
   "metadata": {},
   "outputs": [
    {
     "name": "stdout",
     "output_type": "stream",
     "text": [
      "The train accuracy of knc1 model is: 0.871375.\n",
      "\n",
      "The test accuracy of knc1 model is: 0.827.\n",
      "\n",
      "The confusion matrix of knc1 model is: \n",
      "[[1486  109]\n",
      " [ 237  168]]\n",
      "\n",
      "The dataframe of confusion matrix is: \n",
      "                 Actual Yes:1  Actual No:0\n",
      "Predicted Yes:1          1486          109\n",
      "Predicted No:0            237          168\n",
      "\n",
      "\n",
      "The accuracy of knc1 model using confusion matrix is: 0.827.\n",
      "\n",
      "The error of knc1 model using confusion matrix is: 0.17300000000000004.\n",
      "\n",
      "The precision of knc1 model using confusion matrix is: 0.9316614420062695.\n",
      "\n",
      "The recall of knc1 model using confusion matrix is: 0.8624492164828786.\n",
      "\n",
      "The f1_scoreof knc1 model using confusion matrix is: 0.8957203134418323.\n",
      "\n",
      "The true positive ratio of knc1 model using confusion matrix is: 0.8624492164828786.\n",
      "\n",
      "The false positive ratio of knc1 model using confusion matrix is: 0.3935018050541516.\n",
      "\n",
      "The classification report of knc1 model is:               precision    recall  f1-score   support\n",
      "\n",
      "           0       0.86      0.93      0.90      1595\n",
      "           1       0.61      0.41      0.49       405\n",
      "\n",
      "    accuracy                           0.83      2000\n",
      "   macro avg       0.73      0.67      0.69      2000\n",
      "weighted avg       0.81      0.83      0.81      2000\n",
      ".\n",
      "\n"
     ]
    },
    {
     "data": {
      "image/png": "[encoded data removed]",
      "text/plain": [
       "<Figure size 640x480 with 2 Axes>"
      ]
     },
     "metadata": {},
     "output_type": "display_data"
    }
   ],
   "source": [
    "#Now we find the statistics of knc1 model.\n",
    "\n",
    "#firstly we find the train and test accuracy of knc1 model.\n",
    "\n",
    "#Train accuracy of knc1 model.\n",
    "y_train_pred_knc1=knc1.predict(x_train_sc)\n",
    "ac_train_knc1=accuracy_score(y_train,y_train_pred_knc1)\n",
    "print(f\"The train accuracy of knc1 model is: {ac_train_knc1}.\")\n",
    "print()\n",
    "\n",
    "#Test accuracy of knc1 model.\n",
    "ac_test_knc1=accuracy_score(y_test,y_pred_knc1)\n",
    "print(f\"The test accuracy of knc1 model is: {ac_test_knc1}.\")\n",
    "print()\n",
    "\n",
    "#Now we find the confusion matrix of knc1 model.\n",
    "cm_knc1=confusion_matrix(y_test,y_pred_knc1)\n",
    "print(\"The confusion matrix of knc1 model is: \")\n",
    "print(cm_knc1)\n",
    "print()\n",
    "\n",
    "#Now here we create the dataframe of confusion matrix of knc1 model.\n",
    "cm_knc1_df=pd.DataFrame(cm_knc1,columns=[\"Actual Yes:1\",\"Actual No:0\"],index=[\"Predicted Yes:1\",\"Predicted No:0\"])\n",
    "print(\"The dataframe of confusion matrix is: \")\n",
    "print(cm_knc1_df)\n",
    "print()\n",
    "\n",
    "#Now here we make the heatmap of confusion matrix of knc1 model.\n",
    "sns.heatmap(cm_knc1_df,annot=True,fmt=\"d\",cmap=\"YlGnBu\")\n",
    "print()\n",
    "\n",
    "#Now we find the terminologies of confusion matrix.\n",
    "\n",
    "tp_knc1=cm_knc1[0,0] #True positive.\n",
    "tn_knc1=cm_knc1[1,1] #True  negative.\n",
    "fp_knc1=cm_knc1[0,1] #False Positive.\n",
    "fn_knc1=cm_knc1[1,0] #False negative.\n",
    "\n",
    "#Now we find the terms related to confusion matrix.\n",
    "\n",
    "#Here we find the accuracy of knc1 model using confusion matrix. \n",
    "ac_cm_knc1=(tp_knc1+tn_knc1)/(tp_knc1+tn_knc1+fp_knc1+fn_knc1)\n",
    "print(f\"The accuracy of knc1 model using confusion matrix is: {ac_cm_knc1}.\")\n",
    "print()\n",
    "\n",
    "#Here we find the error of knc1 model using confusion matrix.\n",
    "error_cm_knc1=1-ac_cm_knc1\n",
    "print(f\"The error of knc1 model using confusion matrix is: {error_cm_knc1}.\")\n",
    "print()\n",
    "\n",
    "#Here we find the precision of knc1 model using confusion matrix. \n",
    "precision_cm_knc1=(tp_knc1)/(tp_knc1+fp_knc1)\n",
    "print(f\"The precision of knc1 model using confusion matrix is: {precision_cm_knc1}.\")\n",
    "print()\n",
    "\n",
    "#Here we find the recall of knc1 model using confusion matrix. \n",
    "recall_cm_knc1=(tp_knc1)/(tp_knc1+fn_knc1)\n",
    "print(f\"The recall of knc1 model using confusion matrix is: {recall_cm_knc1}.\")\n",
    "print()\n",
    "\n",
    "#Here we find the f1_score of knc1 model using confusion matrix. \n",
    "f1_score_cm_knc1=(2*precision_cm_knc1*recall_cm_knc1)/(precision_cm_knc1+recall_cm_knc1)\n",
    "print(f\"The f1_scoreof knc1 model using confusion matrix is: {f1_score_cm_knc1}.\")\n",
    "print()\n",
    "\n",
    "#Here we find the true positive ratio of knc1 model using confusion matrix. \n",
    "tpr_cm_knc1=(tp_knc1)/(tp_knc1+fn_knc1)\n",
    "print(f\"The true positive ratio of knc1 model using confusion matrix is: {tpr_cm_knc1}.\")\n",
    "print()\n",
    "\n",
    "#Here we find the false positive ratio of knc1 model using confusion matrix. \n",
    "fpr_cm_knc1=(fp_knc1)/(fp_knc1+tn_knc1)\n",
    "print(f\"The false positive ratio of knc1 model using confusion matrix is: {fpr_cm_knc1}.\")\n",
    "print()\n",
    "\n",
    "#Now here we find the classification report of knc1 model.\n",
    "cr_knc1=classification_report(y_test,y_pred_knc1)\n",
    "print(f\"The classification report of knc1 model is: {cr_knc1}.\")\n",
    "print()"
   ]
  },
  {
   "cell_type": "markdown",
   "id": "ecc860c2-2154-444e-a8d5-de9176766a4f",
   "metadata": {},
   "source": [
    "#### ----------------------------------------------------------------------------------------------\n",
    "### Conclusion of statistics of svc1 model.\n",
    "\n",
    "##### As the train acuuracy and test accuracy is very high and difference is very small,so it is best fit model.\n",
    "\n",
    "##### As the error is 17%,precision is 93.16%,recall is 86.24%,f1_score is 89.57%.\n",
    "\n",
    "##### As the tpr is 86.24% and fpr is 39%.\n",
    "\n",
    "#### ------------------------------------------------------------------------------------------------"
   ]
  },
  {
   "cell_type": "code",
   "execution_count": 46,
   "id": "73d0e9c6-07c2-4e78-aaf9-ab970e61dc37",
   "metadata": {},
   "outputs": [
    {
     "name": "stdout",
     "output_type": "stream",
     "text": [
      "The accuracy of cross validation of knc1 model is: 0.7581249999999999.\n",
      "The standard deviation of cross validation of knc1 model is: 0.008277416565571653.\n",
      "The variance of cross validation of knc1 model is: 6.851562500000003e-05.\n"
     ]
    }
   ],
   "source": [
    "#Now here we try the cross validation on knc1 model.\n",
    "\n",
    "scores=cross_val_score(estimator=knc1,X=x_train,y=y_train,cv=10)\n",
    "\n",
    "print(f\"The accuracy of cross validation of knc1 model is: {scores.mean()}.\")\n",
    "\n",
    "print(f\"The standard deviation of cross validation of knc1 model is: {scores.std()}.\")\n",
    "\n",
    "print(f\"The variance of cross validation of knc1 model is: {scores.var()}.\")"
   ]
  },
  {
   "cell_type": "markdown",
   "id": "5b58eba0-2556-45f1-8510-b539543fbf48",
   "metadata": {},
   "source": [
    "#### ----------------------------------------------------------------------------------------------\n",
    "### Conclusion of cross validation on knc1 model.\n",
    "\n",
    "##### As the accuracy decreases to 75.8%.\n",
    "\n",
    "##### The standard deviation is 0.0008.\n",
    "\n",
    "##### The variance is 0.00068.\n",
    "\n",
    "#### ------------------------------------------------------------------------------------------------"
   ]
  },
  {
   "cell_type": "code",
   "execution_count": 48,
   "id": "e41bbd39-f914-4d8f-884c-093de27f8652",
   "metadata": {},
   "outputs": [],
   "source": [
    "#Now we apply Gaussian Naive Bayes classifier."
   ]
  },
  {
   "cell_type": "markdown",
   "id": "37685e39-9b5d-4dc3-8a79-36017bb8cfa6",
   "metadata": {},
   "source": [
    "#### ------------------------------------------------------------------------------------------------\n",
    "### (4) Gaussian Naive Bayes Classifier model.\n",
    "\n",
    "##### As the gaussian naive bayes classifier model uses the concept of bayesian theorem.\n",
    "\n",
    "##### In this we use the different components such as probability,conditional probability.\n",
    "\n",
    "##### It is also one of the probability based ml algorithm.\n",
    "\n",
    "##### In this we find the probability of new data point with all the existing criteria. \n",
    "\n",
    "##### Then we multiply the probability of one class value w.r.t all criteria.\n",
    "\n",
    "##### Here we only solve the problem of gaussian distributed data.\n",
    "\n",
    "##### It is used for binary classification only.\n",
    "\n",
    "##### posterior=(likelihood*prior)/(marginal likelihood)\n",
    "\n",
    "##### As we select the class for which we get highest probability."
   ]
  },
  {
   "cell_type": "code",
   "execution_count": 49,
   "id": "a0330473-1bcd-41a4-b129-6d8d392a157c",
   "metadata": {},
   "outputs": [
    {
     "name": "stdout",
     "output_type": "stream",
     "text": [
      "The bias of gnb model is: 0.785375.\n",
      "The variance of gnb model is: 0.7845.\n"
     ]
    }
   ],
   "source": [
    "#4(a) Here we use gaussian naive bayes classifier on original data.\n",
    "\n",
    "#Here we create gaussian naive bayes classifier model object.\n",
    "gnb=GaussianNB()\n",
    "\n",
    "#Here we train the gnb model on original data.\n",
    "gnb.fit(x_train,y_train)\n",
    "\n",
    "#Here we predict the values corresponding to x_test using gnb model.\n",
    "y_pred_gnb=gnb.predict(x_test)\n",
    "\n",
    "#Here we find the bias of gnb model.\n",
    "bias_gnb=gnb.score(x_train,y_train)\n",
    "print(f\"The bias of gnb model is: {bias_gnb}.\")\n",
    "\n",
    "#Here we find the variance of gnb model.\n",
    "variance_gnb=gnb.score(x_test,y_test)\n",
    "print(f\"The variance of gnb model is: {variance_gnb}.\")"
   ]
  },
  {
   "cell_type": "code",
   "execution_count": 50,
   "id": "910e1add-c8a5-4eee-a885-9a69a787fe4f",
   "metadata": {},
   "outputs": [
    {
     "name": "stdout",
     "output_type": "stream",
     "text": [
      "The bias of gnb1 model is: 0.817375.\n",
      "The variance of gnb1 model is: 0.8155.\n"
     ]
    }
   ],
   "source": [
    "#4(b) Here we use gaussian naive bayes classifier on scaled data.\n",
    "\n",
    "#Here we create gaussian naive bayes classifier model object.\n",
    "gnb1=GaussianNB()\n",
    "\n",
    "#Here we train the gnb1 model on scaled data.\n",
    "gnb1.fit(x_train_sc,y_train)\n",
    "\n",
    "#Here we predict the values corresponding to x_test_sc using gnb1 model.\n",
    "y_pred_gnb1=gnb1.predict(x_test_sc)\n",
    "\n",
    "#Here we find the bias of gnb1 model.\n",
    "bias_gnb1=gnb1.score(x_train_sc,y_train)\n",
    "print(f\"The bias of gnb1 model is: {bias_gnb1}.\")\n",
    "\n",
    "#Here we find the variance of gnb1 model.\n",
    "variance_gnb1=gnb1.score(x_test_sc,y_test)\n",
    "print(f\"The variance of gnb1 model is: {variance_gnb1}.\")"
   ]
  },
  {
   "cell_type": "markdown",
   "id": "12173d19-c2a6-4346-a612-07322d369d09",
   "metadata": {},
   "source": [
    "#### ----------------------------------------------------------------------------------------------\n",
    "### Conclusion of Gaussian naive bayes Classifier model.\n",
    "\n",
    "##### The gnb1 has bias 81.73% and variance has 81.55%.\n",
    "\n",
    "##### The gnb has bias 78.53 and variance has 78.45%.\n",
    "\n",
    "#### -----------------------------------------------------------------------------------------------"
   ]
  },
  {
   "cell_type": "code",
   "execution_count": 51,
   "id": "d41c5cca-d522-4a22-b179-d40f6b38d86d",
   "metadata": {},
   "outputs": [],
   "source": [
    "#Now we apply Bernoulli naive bayes classifier."
   ]
  },
  {
   "cell_type": "markdown",
   "id": "764d78c1-871e-42be-b395-66b0509395a3",
   "metadata": {},
   "source": [
    "#### ------------------------------------------------------------------------------------------------\n",
    "### (5) Bernoulli Naive Bayes Classifier model.\n",
    "\n",
    "##### As the bernoulli naive bayes classifier model uses the concept of bayesian theorem.\n",
    "\n",
    "##### In this we use the different components such as probability,conditional probability.\n",
    "\n",
    "##### It is also one of the probability based ml algorithm.\n",
    "\n",
    "##### In this we find the probability of new data point with all the existing criteria. \n",
    "\n",
    "##### Then we multiply the probability of one class value w.r.t all criteria.\n",
    "\n",
    "##### Here we only solve the problem of bernoulli distributed data.\n",
    "\n",
    "##### It is used for binary classification only.\n",
    "\n",
    "##### posterior=(likelihood*prior)/(marginal likelihood)\n",
    "\n",
    "##### As we select the class for which we get highest probability."
   ]
  },
  {
   "cell_type": "code",
   "execution_count": 53,
   "id": "18a9d886-a4f0-4651-a9e7-f3d8700bc4aa",
   "metadata": {},
   "outputs": [
    {
     "name": "stdout",
     "output_type": "stream",
     "text": [
      "The bias of bnb model is: 0.790375.\n",
      "The variance of bnb model is: 0.786.\n"
     ]
    }
   ],
   "source": [
    "#5(a) Here we use bernoulli naive bayes classifier on original data.\n",
    "\n",
    "#Here we create bernoulli naive bayes classifier model object.\n",
    "bnb=BernoulliNB()\n",
    "\n",
    "#Here we train the bnb model on original data.\n",
    "bnb.fit(x_train,y_train)\n",
    "\n",
    "#Here we predict the values corresponding to x_test using bnb model.\n",
    "y_pred_bnb=bnb.predict(x_test)\n",
    "\n",
    "#Here we find the bias of bnb model.\n",
    "bias_bnb=bnb.score(x_train,y_train)\n",
    "print(f\"The bias of bnb model is: {bias_bnb}.\")\n",
    "\n",
    "#Here we find the variance of bnb model.\n",
    "variance_bnb=bnb.score(x_test,y_test)\n",
    "print(f\"The variance of bnb model is: {variance_bnb}.\")"
   ]
  },
  {
   "cell_type": "code",
   "execution_count": 54,
   "id": "d35e7d6e-8b9c-4b4d-b8e1-777b49b4c927",
   "metadata": {},
   "outputs": [
    {
     "name": "stdout",
     "output_type": "stream",
     "text": [
      "The bias of bnb1 model is: 0.807375.\n",
      "The variance of bnb1 model is: 0.7985.\n"
     ]
    }
   ],
   "source": [
    "#5(b) Here we use bernoulli naive bayes classifier on scaled data.\n",
    "\n",
    "#Here we create bernoulli naive bayes classifier model object.\n",
    "bnb1=BernoulliNB()\n",
    "\n",
    "#Here we train the bnb1 model on scaled data.\n",
    "bnb1.fit(x_train_sc,y_train)\n",
    "\n",
    "#Here we predict the values corresponding to x_test_sc using bnb1 model.\n",
    "y_pred_bnb1=bnb1.predict(x_test_sc)\n",
    "\n",
    "#Here we find the bias of bnb1 model.\n",
    "bias_bnb1=bnb1.score(x_train_sc,y_train)\n",
    "print(f\"The bias of bnb1 model is: {bias_bnb1}.\")\n",
    "\n",
    "#Here we find the variance of bnb1 model.\n",
    "variance_bnb1=bnb1.score(x_test_sc,y_test)\n",
    "print(f\"The variance of bnb1 model is: {variance_bnb1}.\")"
   ]
  },
  {
   "cell_type": "markdown",
   "id": "bd14af69-8b66-4eea-8890-2d3a9db4457b",
   "metadata": {},
   "source": [
    "#### ----------------------------------------------------------------------------------------------\n",
    "### Conclusion of Bernoulli naive bayes Classifier model.\n",
    "\n",
    "##### The bnb1 has bias 80.73% and variance has 79.85%.\n",
    "\n",
    "##### The gnb has bias 79% and variance has 78.60%.\n",
    "\n",
    "#### -----------------------------------------------------------------------------------------------"
   ]
  },
  {
   "cell_type": "code",
   "execution_count": 55,
   "id": "3e6a929c-8d4d-43dd-8f4b-44c71d1240bc",
   "metadata": {},
   "outputs": [
    {
     "name": "stdout",
     "output_type": "stream",
     "text": [
      "The train accuracy of gnb1 model is: 0.817375.\n",
      "\n",
      "The test accuracy of gnb1 model is: 0.8155.\n",
      "\n",
      "The confusion matrix of gnb1 model is: \n",
      "[[1464  131]\n",
      " [ 238  167]]\n",
      "\n",
      "The dataframe of confusion matrix is: \n",
      "                 Actual Yes:1  Actual No:0\n",
      "Predicted Yes:1          1464          131\n",
      "Predicted No:0            238          167\n",
      "\n",
      "\n",
      "The accuracy of gnb1 model using confusion matrix is: 0.8155.\n",
      "\n",
      "The error of gnb1 model using confusion matrix is: 0.1845.\n",
      "\n",
      "The precision of gnb1 model using confusion matrix is: 0.9178683385579938.\n",
      "\n",
      "The recall of gnb1 model using confusion matrix is: 0.8601645123384254.\n",
      "\n",
      "The f1_scoreof gnb1 model using confusion matrix is: 0.8880800727934486.\n",
      "\n",
      "The true positive ratio of gnb1 model using confusion matrix is: 0.8601645123384254.\n",
      "\n",
      "The false positive ratio of gnb1 model using confusion matrix is: 0.4395973154362416.\n",
      "\n",
      "The classification report of gnb1 model is:               precision    recall  f1-score   support\n",
      "\n",
      "           0       0.86      0.92      0.89      1595\n",
      "           1       0.56      0.41      0.48       405\n",
      "\n",
      "    accuracy                           0.82      2000\n",
      "   macro avg       0.71      0.67      0.68      2000\n",
      "weighted avg       0.80      0.82      0.80      2000\n",
      ".\n",
      "\n"
     ]
    },
    {
     "data": {
      "image/png": "[encoded data removed]",
      "text/plain": [
       "<Figure size 640x480 with 2 Axes>"
      ]
     },
     "metadata": {},
     "output_type": "display_data"
    }
   ],
   "source": [
    "#Now we find the statistics of gnb1 model.\n",
    "\n",
    "#firstly we find the train and test accuracy of gnb1 model.\n",
    "\n",
    "#Train accuracy of gnb1 model.\n",
    "y_train_pred_gnb1=gnb1.predict(x_train_sc)\n",
    "ac_train_gnb1=accuracy_score(y_train,y_train_pred_gnb1)\n",
    "print(f\"The train accuracy of gnb1 model is: {ac_train_gnb1}.\")\n",
    "print()\n",
    "\n",
    "#Test accuracy of gnb1 model.\n",
    "ac_test_gnb1=accuracy_score(y_test,y_pred_gnb1)\n",
    "print(f\"The test accuracy of gnb1 model is: {ac_test_gnb1}.\")\n",
    "print()\n",
    "\n",
    "#Now we find the confusion matrix of gnb1 model.\n",
    "cm_gnb1=confusion_matrix(y_test,y_pred_gnb1)\n",
    "print(\"The confusion matrix of gnb1 model is: \")\n",
    "print(cm_gnb1)\n",
    "print()\n",
    "\n",
    "#Now here we create the dataframe of confusion matrix of gnb1 model.\n",
    "cm_gnb1_df=pd.DataFrame(cm_gnb1,columns=[\"Actual Yes:1\",\"Actual No:0\"],index=[\"Predicted Yes:1\",\"Predicted No:0\"])\n",
    "print(\"The dataframe of confusion matrix is: \")\n",
    "print(cm_gnb1_df)\n",
    "print()\n",
    "\n",
    "#Now here we make the heatmap of confusion matrix of gnb1 model.\n",
    "sns.heatmap(cm_gnb1_df,annot=True,fmt=\"d\",cmap=\"YlGnBu\")\n",
    "print()\n",
    "\n",
    "#Now we find the terminologies of confusion matrix.\n",
    "\n",
    "tp_gnb1=cm_gnb1[0,0] #True positive.\n",
    "tn_gnb1=cm_gnb1[1,1] #True  negative.\n",
    "fp_gnb1=cm_gnb1[0,1] #False Positive.\n",
    "fn_gnb1=cm_gnb1[1,0] #False negative.\n",
    "\n",
    "#Now we find the terms related to confusion matrix.\n",
    "\n",
    "#Here we find the accuracy of gnb1 model using confusion matrix. \n",
    "ac_cm_gnb1=(tp_gnb1+tn_gnb1)/(tp_gnb1+tn_gnb1+fp_gnb1+fn_gnb1)\n",
    "print(f\"The accuracy of gnb1 model using confusion matrix is: {ac_cm_gnb1}.\")\n",
    "print()\n",
    "\n",
    "#Here we find the error of gnb1 model using confusion matrix.\n",
    "error_cm_gnb1=1-ac_cm_gnb1\n",
    "print(f\"The error of gnb1 model using confusion matrix is: {error_cm_gnb1}.\")\n",
    "print()\n",
    "\n",
    "#Here we find the precision of gnb1 model using confusion matrix. \n",
    "precision_cm_gnb1=(tp_gnb1)/(tp_gnb1+fp_gnb1)\n",
    "print(f\"The precision of gnb1 model using confusion matrix is: {precision_cm_gnb1}.\")\n",
    "print()\n",
    "\n",
    "#Here we find the recall of gnb1 model using confusion matrix. \n",
    "recall_cm_gnb1=(tp_gnb1)/(tp_gnb1+fn_gnb1)\n",
    "print(f\"The recall of gnb1 model using confusion matrix is: {recall_cm_gnb1}.\")\n",
    "print()\n",
    "\n",
    "#Here we find the f1_score of gnb1 model using confusion matrix. \n",
    "f1_score_cm_gnb1=(2*precision_cm_gnb1*recall_cm_gnb1)/(precision_cm_gnb1+recall_cm_gnb1)\n",
    "print(f\"The f1_scoreof gnb1 model using confusion matrix is: {f1_score_cm_gnb1}.\")\n",
    "print()\n",
    "\n",
    "#Here we find the true positive ratio of gnb1 model using confusion matrix. \n",
    "tpr_cm_gnb1=(tp_gnb1)/(tp_gnb1+fn_gnb1)\n",
    "print(f\"The true positive ratio of gnb1 model using confusion matrix is: {tpr_cm_gnb1}.\")\n",
    "print()\n",
    "\n",
    "#Here we find the false positive ratio of gnb1 model using confusion matrix. \n",
    "fpr_cm_gnb1=(fp_gnb1)/(fp_gnb1+tn_gnb1)\n",
    "print(f\"The false positive ratio of gnb1 model using confusion matrix is: {fpr_cm_gnb1}.\")\n",
    "print()\n",
    "\n",
    "#Now here we find the classification report of gnb1 model.\n",
    "cr_gnb1=classification_report(y_test,y_pred_gnb1)\n",
    "print(f\"The classification report of gnb1 model is: {cr_gnb1}.\")\n",
    "print()"
   ]
  },
  {
   "cell_type": "markdown",
   "id": "7d82e62f-7e8a-40d3-8062-134e65b03973",
   "metadata": {},
   "source": [
    "#### ----------------------------------------------------------------------------------------------\n",
    "### Conclusion of statistics of gnb1 model.\n",
    "\n",
    "##### As the train acuuracy and test accuracy is very high and difference is very small,so it is best fit model.\n",
    "\n",
    "##### As the error is 18%,precision is 91%,recall is 86.24%,f1_score is 88.80%.\n",
    "\n",
    "##### As the tpr is 86% and fpr is 44%.\n",
    "\n",
    "#### ------------------------------------------------------------------------------------------------"
   ]
  },
  {
   "cell_type": "code",
   "execution_count": 56,
   "id": "8ea056b7-cc2b-4aa3-9258-4d2259d7e0ed",
   "metadata": {},
   "outputs": [],
   "source": [
    "#Now we apply decision tree classifier ."
   ]
  },
  {
   "cell_type": "markdown",
   "id": "a74c0189-9b33-49a3-be75-378627c10750",
   "metadata": {},
   "source": [
    "#### ------------------------------------------------------------------------------------------------\n",
    "### (6) Decision tree Classifier model.\n",
    "\n",
    "##### As the decision tree classifier model uses the concept of tree.\n",
    "\n",
    "##### In this we use the different components entropy,gini index and information gain.\n",
    "\n",
    "##### Information gain is defined as the amount of information we get from the features.\n",
    "\n",
    "##### We choose the root node as that independent feature whose information gain is maximum.\n",
    "\n",
    "##### Then we find the entropy and gini impurity.\n",
    "\n",
    "##### We split the node on that basis,for which impurity is less.\n",
    "\n",
    "##### formula of entropy is: -((p-logp-)+(p+logp+)) ,where p-=n/(p+n) and p+=p/(p+n)\n",
    "\n",
    "##### formula of gini index is: 1-(summation of p^2). \n",
    "\n",
    "##### Then we find Information gain as IG=Ig of dependent feature-weighted gain."
   ]
  },
  {
   "cell_type": "code",
   "execution_count": 68,
   "id": "0a42a33b-9842-49d1-95d8-83f43a2acfa2",
   "metadata": {},
   "outputs": [
    {
     "name": "stdout",
     "output_type": "stream",
     "text": [
      "The bias of dtc model is: 0.850375.\n",
      "The variance of dtc model is: 0.8565.\n"
     ]
    }
   ],
   "source": [
    "#6(a) Here we use Decision tree classifier on original data.\n",
    "\n",
    "#Here we create decision tree classifier model object.\n",
    "dtc=DecisionTreeClassifier(criterion=\"gini\",random_state=0,min_samples_split=6,max_depth=4)\n",
    "\n",
    "#Here we train the dtc model on original data.\n",
    "dtc.fit(x_train,y_train)\n",
    "\n",
    "#Here we predict the values corresponding to x_test using dtc model.\n",
    "y_pred_dtc=dtc.predict(x_test)\n",
    "\n",
    "#Here we find the bias of dtc model.\n",
    "bias_dtc=dtc.score(x_train,y_train)\n",
    "print(f\"The bias of dtc model is: {bias_dtc}.\")\n",
    "\n",
    "#Here we find the variance of dtc model.\n",
    "variance_dtc=dtc.score(x_test,y_test)\n",
    "print(f\"The variance of dtc model is: {variance_dtc}.\")"
   ]
  },
  {
   "cell_type": "code",
   "execution_count": 71,
   "id": "94756cbe-3108-4fd0-a3bf-31325ea9fe67",
   "metadata": {},
   "outputs": [
    {
     "name": "stdout",
     "output_type": "stream",
     "text": [
      "The bias of dtc1 model is: 0.87275.\n",
      "The variance of dtc1 model is: 0.857.\n"
     ]
    }
   ],
   "source": [
    "#6(b) Here we use Decision tree classifier on scaled data.\n",
    "\n",
    "#Here we create decision tree classifier model object.\n",
    "dtc1=DecisionTreeClassifier(criterion=\"gini\",random_state=0,min_samples_split=6,max_depth=7)\n",
    "\n",
    "#Here we train the dtc1 model on scaled data.\n",
    "dtc1.fit(x_train_sc,y_train)\n",
    "\n",
    "#Here we predict the values corresponding to x_test_sc using dtc1 model.\n",
    "y_pred_dtc1=dtc1.predict(x_test_sc)\n",
    "\n",
    "#Here we find the bias of dtc1 model.\n",
    "bias_dtc1=dtc1.score(x_train_sc,y_train)\n",
    "print(f\"The bias of dtc1 model is: {bias_dtc1}.\")\n",
    "\n",
    "#Here we find the variance of dtc1 model.\n",
    "variance_dtc1=dtc1.score(x_test_sc,y_test)\n",
    "print(f\"The variance of dtc1 model is: {variance_dtc1}.\")"
   ]
  },
  {
   "cell_type": "markdown",
   "id": "6ff5d5f4-e1d6-4eb3-a8c2-7c6a73ea4622",
   "metadata": {},
   "source": [
    "#### ----------------------------------------------------------------------------------------------\n",
    "### Conclusion of Decision tree Classifier model.\n",
    "\n",
    "##### The dtc1 has bias 87.27% and variance has 85.70%.\n",
    "\n",
    "##### The dtc has bias 85.30% and variance has 85.65%.\n",
    "\n",
    "#### -----------------------------------------------------------------------------------------------"
   ]
  },
  {
   "cell_type": "code",
   "execution_count": 72,
   "id": "54f8ea9a-92c4-4cde-b9ca-8e73a195e7ad",
   "metadata": {},
   "outputs": [
    {
     "name": "stdout",
     "output_type": "stream",
     "text": [
      "The train accuracy of dtc1 model is: 0.87275.\n",
      "\n",
      "The test accuracy of dtc1 model is: 0.857.\n",
      "\n",
      "The confusion matrix of dtc1 model is: \n",
      "[[1499   96]\n",
      " [ 190  215]]\n",
      "\n",
      "The dataframe of confusion matrix is: \n",
      "                 Actual Yes:1  Actual No:0\n",
      "Predicted Yes:1          1499           96\n",
      "Predicted No:0            190          215\n",
      "\n",
      "\n",
      "The accuracy of dtc1 model using confusion matrix is: 0.857.\n",
      "\n",
      "The error of dtc1 model using confusion matrix is: 0.14300000000000002.\n",
      "\n",
      "The precision of dtc1 model using confusion matrix is: 0.9398119122257054.\n",
      "\n",
      "The recall of dtc1 model using confusion matrix is: 0.8875074008288928.\n",
      "\n",
      "The f1_scoreof dtc1 model using confusion matrix is: 0.9129110840438489.\n",
      "\n",
      "The true positive ratio of dtc1 model using confusion matrix is: 0.8875074008288928.\n",
      "\n",
      "The false positive ratio of dtc1 model using confusion matrix is: 0.3086816720257235.\n",
      "\n",
      "The classification report of dtc1 model is:               precision    recall  f1-score   support\n",
      "\n",
      "           0       0.89      0.94      0.91      1595\n",
      "           1       0.69      0.53      0.60       405\n",
      "\n",
      "    accuracy                           0.86      2000\n",
      "   macro avg       0.79      0.74      0.76      2000\n",
      "weighted avg       0.85      0.86      0.85      2000\n",
      ".\n",
      "\n"
     ]
    },
    {
     "data": {
      "image/png": "[encoded data removed]",
      "text/plain": [
       "<Figure size 640x480 with 2 Axes>"
      ]
     },
     "metadata": {},
     "output_type": "display_data"
    }
   ],
   "source": [
    "#Now we find the statistics of dtc1 model.\n",
    "\n",
    "#firstly we find the train and test accuracy of dtc1 model.\n",
    "\n",
    "#Train accuracy of dtc1 model.\n",
    "y_train_pred_dtc1=dtc1.predict(x_train_sc)\n",
    "ac_train_dtc1=accuracy_score(y_train,y_train_pred_dtc1)\n",
    "print(f\"The train accuracy of dtc1 model is: {ac_train_dtc1}.\")\n",
    "print()\n",
    "\n",
    "#Test accuracy of dtc1 model.\n",
    "ac_test_dtc1=accuracy_score(y_test,y_pred_dtc1)\n",
    "print(f\"The test accuracy of dtc1 model is: {ac_test_dtc1}.\")\n",
    "print()\n",
    "\n",
    "#Now we find the confusion matrix of dtc1 model.\n",
    "cm_dtc1=confusion_matrix(y_test,y_pred_dtc1)\n",
    "print(\"The confusion matrix of dtc1 model is: \")\n",
    "print(cm_dtc1)\n",
    "print()\n",
    "\n",
    "#Now here we create the dataframe of confusion matrix of dtc1 model.\n",
    "cm_dtc1_df=pd.DataFrame(cm_dtc1,columns=[\"Actual Yes:1\",\"Actual No:0\"],index=[\"Predicted Yes:1\",\"Predicted No:0\"])\n",
    "print(\"The dataframe of confusion matrix is: \")\n",
    "print(cm_dtc1_df)\n",
    "print()\n",
    "\n",
    "#Now here we make the heatmap of confusion matrix of dtc1 model.\n",
    "sns.heatmap(cm_dtc1_df,annot=True,fmt=\"d\",cmap=\"YlGnBu\")\n",
    "print()\n",
    "\n",
    "#Now we find the terminologies of confusion matrix.\n",
    "\n",
    "tp_dtc1=cm_dtc1[0,0] #True positive.\n",
    "tn_dtc1=cm_dtc1[1,1] #True  negative.\n",
    "fp_dtc1=cm_dtc1[0,1] #False Positive.\n",
    "fn_dtc1=cm_dtc1[1,0] #False negative.\n",
    "\n",
    "#Now we find the terms related to confusion matrix.\n",
    "\n",
    "#Here we find the accuracy of dtc1 model using confusion matrix. \n",
    "ac_cm_dtc1=(tp_dtc1+tn_dtc1)/(tp_dtc1+tn_dtc1+fp_dtc1+fn_dtc1)\n",
    "print(f\"The accuracy of dtc1 model using confusion matrix is: {ac_cm_dtc1}.\")\n",
    "print()\n",
    "\n",
    "#Here we find the error of dtc1 model using confusion matrix.\n",
    "error_cm_dtc1=1-ac_cm_dtc1\n",
    "print(f\"The error of dtc1 model using confusion matrix is: {error_cm_dtc1}.\")\n",
    "print()\n",
    "\n",
    "#Here we find the precision of dtc1 model using confusion matrix. \n",
    "precision_cm_dtc1=(tp_dtc1)/(tp_dtc1+fp_dtc1)\n",
    "print(f\"The precision of dtc1 model using confusion matrix is: {precision_cm_dtc1}.\")\n",
    "print()\n",
    "\n",
    "#Here we find the recall of dtc1 model using confusion matrix. \n",
    "recall_cm_dtc1=(tp_dtc1)/(tp_dtc1+fn_dtc1)\n",
    "print(f\"The recall of dtc1 model using confusion matrix is: {recall_cm_dtc1}.\")\n",
    "print()\n",
    "\n",
    "#Here we find the f1_score of dtc1 model using confusion matrix. \n",
    "f1_score_cm_dtc1=(2*precision_cm_dtc1*recall_cm_dtc1)/(precision_cm_dtc1+recall_cm_dtc1)\n",
    "print(f\"The f1_scoreof dtc1 model using confusion matrix is: {f1_score_cm_dtc1}.\")\n",
    "print()\n",
    "\n",
    "#Here we find the true positive ratio of dtc1 model using confusion matrix. \n",
    "tpr_cm_dtc1=(tp_dtc1)/(tp_dtc1+fn_dtc1)\n",
    "print(f\"The true positive ratio of dtc1 model using confusion matrix is: {tpr_cm_dtc1}.\")\n",
    "print()\n",
    "\n",
    "#Here we find the false positive ratio of dtc1 model using confusion matrix. \n",
    "fpr_cm_dtc1=(fp_dtc1)/(fp_dtc1+tn_dtc1)\n",
    "print(f\"The false positive ratio of dtc1 model using confusion matrix is: {fpr_cm_dtc1}.\")\n",
    "print()\n",
    "\n",
    "#Now here we find the classification report of dtc1 model.\n",
    "cr_dtc1=classification_report(y_test,y_pred_dtc1)\n",
    "print(f\"The classification report of dtc1 model is: {cr_dtc1}.\")\n",
    "print()"
   ]
  },
  {
   "cell_type": "markdown",
   "id": "b7097bd3-97e7-479a-8c01-67ccada4d152",
   "metadata": {},
   "source": [
    "#### ----------------------------------------------------------------------------------------------\n",
    "### Conclusion of statistics of dtc1 model.\n",
    "\n",
    "##### As the train acuuracy and test accuracy is very high and difference is very small,so it is best fit model.\n",
    "\n",
    "##### As the error is 14%,precision is 94%,recall is 88.75%,f1_score is 91.29%.\n",
    "\n",
    "##### As the tpr is 88.75% and fpr is 30%.\n",
    "\n",
    "#### ------------------------------------------------------------------------------------------------\n"
   ]
  },
  {
   "cell_type": "code",
   "execution_count": 73,
   "id": "680255f5-1950-4774-bad0-05742e474e9e",
   "metadata": {},
   "outputs": [],
   "source": [
    "#Now we apply random forest classifier."
   ]
  },
  {
   "cell_type": "markdown",
   "id": "0f35dc9e-7691-4a0f-b5ea-47562b675d50",
   "metadata": {},
   "source": [
    "#### ------------------------------------------------------------------------------------------------\n",
    "### (7) Random forest Classifier model.\n",
    "\n",
    "##### As the random forest classifier model uses the concept of ensemble learning.\n",
    "\n",
    "##### As this is the example of boosting.\n",
    "\n",
    "##### In this we use the different components such as bootstraping,voting.\n",
    "\n",
    "##### Bootstraping means to split the dataset into random manner to apply different models.\n",
    "\n",
    "##### And this is also known as parallel ensemble.\n",
    "\n",
    "##### We can use any one of the voting i.e soft and hard voting.\n",
    "\n",
    "##### Here we apply different algorithm on the dataset and then take mode of the data of all models..\n",
    "\n",
    "##### Here we use n_estimators which defines the number of trees we made.\n",
    "\n",
    "##### And by using this we can resolve overfitting."
   ]
  },
  {
   "cell_type": "code",
   "execution_count": 85,
   "id": "03743222-5ea9-4860-bf58-707c60fe6354",
   "metadata": {},
   "outputs": [
    {
     "name": "stdout",
     "output_type": "stream",
     "text": [
      "The bias of rfc model is: 0.948125.\n",
      "The variance of rfc model is: 0.8685.\n"
     ]
    }
   ],
   "source": [
    "#7(a) Here we use random forest classifier on original data.\n",
    "\n",
    "#Here we create random forest classifier model object.\n",
    "rfc=RandomForestClassifier(n_estimators=55,min_samples_split=7,random_state=0)\n",
    "\n",
    "#Here we train the rfc model on original data.\n",
    "rfc.fit(x_train,y_train)\n",
    "\n",
    "#Here we predict the values corresponding to x_test using rfc model.\n",
    "y_pred_rfc=rfc.predict(x_test)\n",
    "\n",
    "#Here we find the bias of rfc model.\n",
    "bias_rfc=rfc.score(x_train,y_train)\n",
    "print(f\"The bias of rfc model is: {bias_rfc}.\")\n",
    "\n",
    "#Here we find the variance of rfc model.\n",
    "variance_rfc=rfc.score(x_test,y_test)\n",
    "print(f\"The variance of rfc model is: {variance_rfc}.\")"
   ]
  },
  {
   "cell_type": "code",
   "execution_count": 91,
   "id": "e8be926a-b879-4e8d-9115-6b0391c3be3c",
   "metadata": {},
   "outputs": [
    {
     "name": "stdout",
     "output_type": "stream",
     "text": [
      "The bias of rfc1 model is: 0.947875.\n",
      "The variance of rfc1 model is: 0.873.\n"
     ]
    }
   ],
   "source": [
    "#7(b) Here we use random forest classifier on scaled data.\n",
    "\n",
    "#Here we create random forest classifier model object.\n",
    "rfc1=RandomForestClassifier(n_estimators=35,min_samples_split=7,random_state=0)\n",
    "\n",
    "#Here we train the rfc1 model on original data.\n",
    "rfc1.fit(x_train_sc,y_train)\n",
    "\n",
    "#Here we predict the values corresponding to x_test_sc using rfc1 model.\n",
    "y_pred_rfc1=rfc1.predict(x_test_sc)\n",
    "\n",
    "#Here we find the bias of rfc1 model.\n",
    "bias_rfc1=rfc1.score(x_train_sc,y_train)\n",
    "print(f\"The bias of rfc1 model is: {bias_rfc1}.\")\n",
    "\n",
    "#Here we find the variance of rfc1 model.\n",
    "variance_rfc1=rfc1.score(x_test_sc,y_test)\n",
    "print(f\"The variance of rfc1 model is: {variance_rfc1}.\")"
   ]
  },
  {
   "cell_type": "markdown",
   "id": "4d863c5b-e976-4b9e-8751-42361586bb87",
   "metadata": {},
   "source": [
    "#### ----------------------------------------------------------------------------------------------\n",
    "### Conclusion of random forest Classifier model.\n",
    "\n",
    "##### The rfc1 has bias 94.78% and variance has 87.30%.\n",
    "\n",
    "##### The rfc has bias 94.81% and variance has 86.85%.\n",
    "\n",
    "#### -----------------------------------------------------------------------------------------------"
   ]
  },
  {
   "cell_type": "code",
   "execution_count": 92,
   "id": "8fd08a65-bbfe-44f8-820d-58f2ca53a2eb",
   "metadata": {},
   "outputs": [
    {
     "name": "stdout",
     "output_type": "stream",
     "text": [
      "The train accuracy of rfc1 model is: 0.947875.\n",
      "\n",
      "The test accuracy of rfc1 model is: 0.873.\n",
      "\n",
      "The confusion matrix of rfc1 model is: \n",
      "[[1531   64]\n",
      " [ 190  215]]\n",
      "\n",
      "The dataframe of confusion matrix is: \n",
      "                 Actual Yes:1  Actual No:0\n",
      "Predicted Yes:1          1531           64\n",
      "Predicted No:0            190          215\n",
      "\n",
      "\n",
      "The accuracy of rfc1 model using confusion matrix is: 0.873.\n",
      "\n",
      "The error of rfc1 model using confusion matrix is: 0.127.\n",
      "\n",
      "The precision of rfc1 model using confusion matrix is: 0.9598746081504702.\n",
      "\n",
      "The recall of rfc1 model using confusion matrix is: 0.8895990703079605.\n",
      "\n",
      "The f1_scoreof rfc1 model using confusion matrix is: 0.9234016887816646.\n",
      "\n",
      "The true positive ratio of rfc1 model using confusion matrix is: 0.8895990703079605.\n",
      "\n",
      "The false positive ratio of rfc1 model using confusion matrix is: 0.22939068100358423.\n",
      "\n",
      "The classification report of rfc1 model is:               precision    recall  f1-score   support\n",
      "\n",
      "           0       0.89      0.96      0.92      1595\n",
      "           1       0.77      0.53      0.63       405\n",
      "\n",
      "    accuracy                           0.87      2000\n",
      "   macro avg       0.83      0.75      0.78      2000\n",
      "weighted avg       0.87      0.87      0.86      2000\n",
      ".\n",
      "\n"
     ]
    },
    {
     "data": {
      "image/png": "[encoded data removed]",
      "text/plain": [
       "<Figure size 640x480 with 2 Axes>"
      ]
     },
     "metadata": {},
     "output_type": "display_data"
    }
   ],
   "source": [
    "#Now we find the statistics of rfc1 model.\n",
    "\n",
    "#firstly we find the train and test accuracy of rfc1 model.\n",
    "\n",
    "#Train accuracy of rfc1 model.\n",
    "y_train_pred_rfc1=rfc1.predict(x_train_sc)\n",
    "ac_train_rfc1=accuracy_score(y_train,y_train_pred_rfc1)\n",
    "print(f\"The train accuracy of rfc1 model is: {ac_train_rfc1}.\")\n",
    "print()\n",
    "\n",
    "#Test accuracy of rfc1 model.\n",
    "ac_test_rfc1=accuracy_score(y_test,y_pred_rfc1)\n",
    "print(f\"The test accuracy of rfc1 model is: {ac_test_rfc1}.\")\n",
    "print()\n",
    "\n",
    "#Now we find the confusion matrix of rfc1 model.\n",
    "cm_rfc1=confusion_matrix(y_test,y_pred_rfc1)\n",
    "print(\"The confusion matrix of rfc1 model is: \")\n",
    "print(cm_rfc1)\n",
    "print()\n",
    "\n",
    "#Now here we create the dataframe of confusion matrix of rfc1 model.\n",
    "cm_rfc1_df=pd.DataFrame(cm_rfc1,columns=[\"Actual Yes:1\",\"Actual No:0\"],index=[\"Predicted Yes:1\",\"Predicted No:0\"])\n",
    "print(\"The dataframe of confusion matrix is: \")\n",
    "print(cm_rfc1_df)\n",
    "print()\n",
    "\n",
    "#Now here we make the heatmap of confusion matrix of rfc1 model.\n",
    "sns.heatmap(cm_rfc1_df,annot=True,fmt=\"d\",cmap=\"YlGnBu\")\n",
    "print()\n",
    "\n",
    "#Now we find the terminologies of confusion matrix.\n",
    "\n",
    "tp_rfc1=cm_rfc1[0,0] #True positive.\n",
    "tn_rfc1=cm_rfc1[1,1] #True  negative.\n",
    "fp_rfc1=cm_rfc1[0,1] #False Positive.\n",
    "fn_rfc1=cm_rfc1[1,0] #False negative.\n",
    "\n",
    "#Now we find the terms related to confusion matrix.\n",
    "\n",
    "#Here we find the accuracy of rfc1 model using confusion matrix. \n",
    "ac_cm_rfc1=(tp_rfc1+tn_rfc1)/(tp_rfc1+tn_rfc1+fp_rfc1+fn_rfc1)\n",
    "print(f\"The accuracy of rfc1 model using confusion matrix is: {ac_cm_rfc1}.\")\n",
    "print()\n",
    "\n",
    "#Here we find the error of rfc1 model using confusion matrix.\n",
    "error_cm_rfc1=1-ac_cm_rfc1\n",
    "print(f\"The error of rfc1 model using confusion matrix is: {error_cm_rfc1}.\")\n",
    "print()\n",
    "\n",
    "#Here we find the precision of rfc1 model using confusion matrix. \n",
    "precision_cm_rfc1=(tp_rfc1)/(tp_rfc1+fp_rfc1)\n",
    "print(f\"The precision of rfc1 model using confusion matrix is: {precision_cm_rfc1}.\")\n",
    "print()\n",
    "\n",
    "#Here we find the recall of rfc1 model using confusion matrix. \n",
    "recall_cm_rfc1=(tp_rfc1)/(tp_rfc1+fn_rfc1)\n",
    "print(f\"The recall of rfc1 model using confusion matrix is: {recall_cm_rfc1}.\")\n",
    "print()\n",
    "\n",
    "#Here we find the f1_score of rfc1 model using confusion matrix. \n",
    "f1_score_cm_rfc1=(2*precision_cm_rfc1*recall_cm_rfc1)/(precision_cm_rfc1+recall_cm_rfc1)\n",
    "print(f\"The f1_scoreof rfc1 model using confusion matrix is: {f1_score_cm_rfc1}.\")\n",
    "print()\n",
    "\n",
    "#Here we find the true positive ratio of rfc1 model using confusion matrix. \n",
    "tpr_cm_rfc1=(tp_rfc1)/(tp_rfc1+fn_rfc1)\n",
    "print(f\"The true positive ratio of rfc1 model using confusion matrix is: {tpr_cm_rfc1}.\")\n",
    "print()\n",
    "\n",
    "#Here we find the false positive ratio of rfc1 model using confusion matrix. \n",
    "fpr_cm_rfc1=(fp_rfc1)/(fp_rfc1+tn_rfc1)\n",
    "print(f\"The false positive ratio of rfc1 model using confusion matrix is: {fpr_cm_rfc1}.\")\n",
    "print()\n",
    "\n",
    "#Now here we find the classification report of rfc1 model.\n",
    "cr_rfc1=classification_report(y_test,y_pred_rfc1)\n",
    "print(f\"The classification report of rfc1 model is: {cr_rfc1}.\")\n",
    "print()"
   ]
  },
  {
   "cell_type": "markdown",
   "id": "5c3d03d5-6260-4346-9569-c8b95f1f2bb4",
   "metadata": {},
   "source": [
    "#### ----------------------------------------------------------------------------------------------\n",
    "### Conclusion of statistics of dtc1 model.\n",
    "\n",
    "##### As the train acuuracy and test accuracy is very high and difference is very small,so it is best fit model.\n",
    "\n",
    "##### As the error is 12%,precision is 95%,recall is 88.95%,f1_score is 92.34%.\n",
    "\n",
    "##### As the tpr is 88.95% and fpr is 22.93%.\n",
    "\n",
    "#### ------------------------------------------------------------------------------------------------\n"
   ]
  },
  {
   "cell_type": "code",
   "execution_count": 103,
   "id": "6ec7ea09-218c-4da9-a378-dd638a2ddecc",
   "metadata": {},
   "outputs": [],
   "source": [
    "#Now we apply xtream gradient boosting classifier."
   ]
  },
  {
   "cell_type": "markdown",
   "id": "faad3274-786f-4064-8999-142383226a2f",
   "metadata": {},
   "source": [
    "#### ------------------------------------------------------------------------------------------------\n",
    "### (8) Xtream Gradient Classifier model.\n",
    "\n",
    "##### As the Xtream Gradient classifier model uses the concept of ensemble learning.\n",
    "\n",
    "##### As this is the example of bagging.\n",
    "\n",
    "##### In this we use the different components such as bootstraping,voting.\n",
    "\n",
    "##### Bootstraping means to split the dataset into random manner to apply different models.\n",
    "\n",
    "##### And this is also known as sequential ensemble.\n",
    "\n",
    "##### We can use any one of the voting i.e soft and hard voting.\n",
    "\n",
    "##### Here we apply different algorithm on the dataset and then take mode of the data of all models..\n",
    "\n",
    "##### Here we use learning_rate ,which fluctuates the gradient and try to achieve global minima.\n",
    "\n",
    "##### And by using this we can resolve overfitting."
   ]
  },
  {
   "cell_type": "code",
   "execution_count": 99,
   "id": "bad2ba5d-c7bc-46e2-b14e-e5ec1a8810e9",
   "metadata": {},
   "outputs": [
    {
     "name": "stdout",
     "output_type": "stream",
     "text": [
      "The bias of xgbc model is: 0.881.\n",
      "The variance of xgbc model is: 0.8675.\n"
     ]
    }
   ],
   "source": [
    "#8(a) Here we use Xtream Gradient classifier on original data.\n",
    "\n",
    "#Here we create xtream gradient classifier model object.\n",
    "xgbc=XGBClassifier(n_estimators=40,learning_rate=0.1)\n",
    "\n",
    "#Here we train the xgbc model on original data.\n",
    "xgbc.fit(x_train,y_train)\n",
    "\n",
    "#Here we predict the values corresponding to x_test using xgbc model.\n",
    "y_pred_xgbc=xgbc.predict(x_test)\n",
    "\n",
    "#Here we find the bias of xgbc model.\n",
    "bias_xgbc=xgbc.score(x_train,y_train)\n",
    "print(f\"The bias of xgbc model is: {bias_xgbc}.\")\n",
    "\n",
    "#Here we find the variance of xgbc model.\n",
    "variance_xgbc=xgbc.score(x_test,y_test)\n",
    "print(f\"The variance of xgbc model is: {variance_xgbc}.\")"
   ]
  },
  {
   "cell_type": "code",
   "execution_count": 102,
   "id": "1220539d-9e08-4915-b7bb-ad6824ff7700",
   "metadata": {},
   "outputs": [
    {
     "name": "stdout",
     "output_type": "stream",
     "text": [
      "The bias of xgbc1 model is: 0.8675.\n",
      "The variance of xgbc1 model is: 0.868.\n"
     ]
    }
   ],
   "source": [
    "#8(b) Here we use Xtream Gradient classifier on scaled data.\n",
    "\n",
    "#Here we create xtream gradient classifier model object.\n",
    "xgbc1=XGBClassifier(n_estimators=15,learning_rate=0.1)\n",
    "\n",
    "#Here we train the xgbc1 model on scaled data.\n",
    "xgbc1.fit(x_train_sc,y_train)\n",
    "\n",
    "#Here we predict the values corresponding to x_test_sc using xgbc1 model.\n",
    "y_pred_xgbc1=xgbc1.predict(x_test_sc)\n",
    "\n",
    "#Here we find the bias of xgbc1 model.\n",
    "bias_xgbc1=xgbc1.score(x_train_sc,y_train)\n",
    "print(f\"The bias of xgbc1 model is: {bias_xgbc1}.\")\n",
    "\n",
    "#Here we find the variance of xgbc1 model.\n",
    "variance_xgbc1=xgbc1.score(x_test_sc,y_test)\n",
    "print(f\"The variance of xgbc1 model is: {variance_xgbc1}.\")"
   ]
  },
  {
   "cell_type": "markdown",
   "id": "e52f4c12-5382-4f39-8f22-e11587d4f052",
   "metadata": {},
   "source": [
    "#### ----------------------------------------------------------------------------------------------\n",
    "### Conclusion of xtream gradient boosting Classifier model.\n",
    "\n",
    "##### The xgbc1 has bias 86.75% and variance has 86.80%.\n",
    "\n",
    "##### The xgbc has bias 88.10% and variance has 86.75%.\n",
    "\n",
    "#### -----------------------------------------------------------------------------------------------"
   ]
  },
  {
   "cell_type": "code",
   "execution_count": 104,
   "id": "0f2c5e5d-1508-40de-8632-256de6c907c6",
   "metadata": {},
   "outputs": [
    {
     "name": "stdout",
     "output_type": "stream",
     "text": [
      "The train accuracy of xgbc1 model is: 0.8675.\n",
      "\n",
      "The test accuracy of xgbc1 model is: 0.868.\n",
      "\n",
      "The confusion matrix of xgbc1 model is: \n",
      "[[1553   42]\n",
      " [ 222  183]]\n",
      "\n",
      "The dataframe of confusion matrix is: \n",
      "                 Actual Yes:1  Actual No:0\n",
      "Predicted Yes:1          1553           42\n",
      "Predicted No:0            222          183\n",
      "\n",
      "\n",
      "The accuracy of xgbc1 model using confusion matrix is: 0.868.\n",
      "\n",
      "The error of xgbc1 model using confusion matrix is: 0.132.\n",
      "\n",
      "The precision of xgbc1 model using confusion matrix is: 0.9736677115987461.\n",
      "\n",
      "The recall of xgbc1 model using confusion matrix is: 0.8749295774647887.\n",
      "\n",
      "The f1_score of xgbc1 model using confusion matrix is: 0.9216617210682493.\n",
      "\n",
      "The true positive ratio of xgbc1 model using confusion matrix is: 0.8749295774647887.\n",
      "\n",
      "The false positive ratio of xgbc1 model using confusion matrix is: 0.18666666666666668.\n",
      "\n",
      "The classification report of xgbc1 model is:               precision    recall  f1-score   support\n",
      "\n",
      "           0       0.87      0.97      0.92      1595\n",
      "           1       0.81      0.45      0.58       405\n",
      "\n",
      "    accuracy                           0.87      2000\n",
      "   macro avg       0.84      0.71      0.75      2000\n",
      "weighted avg       0.86      0.87      0.85      2000\n",
      ".\n",
      "\n"
     ]
    },
    {
     "data": {
      "image/png": "[encoded data removed]",
      "text/plain": [
       "<Figure size 640x480 with 2 Axes>"
      ]
     },
     "metadata": {},
     "output_type": "display_data"
    }
   ],
   "source": [
    "#Now we find the statistics of xgbc1 model.\n",
    "\n",
    "#firstly we find the train and test accuracy of xgbc1 model.\n",
    "\n",
    "#Train accuracy of xgbc1 model.\n",
    "y_train_pred_xgbc1=xgbc1.predict(x_train_sc)\n",
    "ac_train_xgbc1=accuracy_score(y_train,y_train_pred_xgbc1)\n",
    "print(f\"The train accuracy of xgbc1 model is: {ac_train_xgbc1}.\")\n",
    "print()\n",
    "\n",
    "#Test accuracy of xgbc1 model.\n",
    "ac_test_xgbc1=accuracy_score(y_test,y_pred_xgbc1)\n",
    "print(f\"The test accuracy of xgbc1 model is: {ac_test_xgbc1}.\")\n",
    "print()\n",
    "\n",
    "#Now we find the confusion matrix of xgbc1 model.\n",
    "cm_xgbc1=confusion_matrix(y_test,y_pred_xgbc1)\n",
    "print(\"The confusion matrix of xgbc1 model is: \")\n",
    "print(cm_xgbc1)\n",
    "print()\n",
    "\n",
    "#Now here we create the dataframe of confusion matrix of xgbc1 model.\n",
    "cm_xgbc1_df=pd.DataFrame(cm_xgbc1,columns=[\"Actual Yes:1\",\"Actual No:0\"],index=[\"Predicted Yes:1\",\"Predicted No:0\"])\n",
    "print(\"The dataframe of confusion matrix is: \")\n",
    "print(cm_xgbc1_df)\n",
    "print()\n",
    "\n",
    "#Now here we make the heatmap of confusion matrix of xgbc1 model.\n",
    "sns.heatmap(cm_xgbc1_df,annot=True,fmt=\"d\",cmap=\"YlGnBu\")\n",
    "print()\n",
    "\n",
    "#Now we find the terminologies of confusion matrix.\n",
    "\n",
    "tp_xgbc1=cm_xgbc1[0,0] #True positive.\n",
    "tn_xgbc1=cm_xgbc1[1,1] #True  negative.\n",
    "fp_xgbc1=cm_xgbc1[0,1] #False Positive.\n",
    "fn_xgbc1=cm_xgbc1[1,0] #False negative.\n",
    "\n",
    "#Now we find the terms related to confusion matrix.\n",
    "\n",
    "#Here we find the accuracy of xgbc1 model using confusion matrix. \n",
    "ac_cm_xgbc1=(tp_xgbc1+tn_xgbc1)/(tp_xgbc1+tn_xgbc1+fp_xgbc1+fn_xgbc1)\n",
    "print(f\"The accuracy of xgbc1 model using confusion matrix is: {ac_cm_xgbc1}.\")\n",
    "print()\n",
    "\n",
    "#Here we find the error of xgbc1 model using confusion matrix.\n",
    "error_cm_xgbc1=1-ac_cm_xgbc1\n",
    "print(f\"The error of xgbc1 model using confusion matrix is: {error_cm_xgbc1}.\")\n",
    "print()\n",
    "\n",
    "#Here we find the precision of xgbc1 model using confusion matrix. \n",
    "precision_cm_xgbc1=(tp_xgbc1)/(tp_xgbc1+fp_xgbc1)\n",
    "print(f\"The precision of xgbc1 model using confusion matrix is: {precision_cm_xgbc1}.\")\n",
    "print()\n",
    "\n",
    "#Here we find the recall of xgbc1 model using confusion matrix. \n",
    "recall_cm_xgbc1=(tp_xgbc1)/(tp_xgbc1+fn_xgbc1)\n",
    "print(f\"The recall of xgbc1 model using confusion matrix is: {recall_cm_xgbc1}.\")\n",
    "print()\n",
    "\n",
    "#Here we find the f1_score of xgbc1 model using confusion matrix. \n",
    "f1_score_cm_xgbc1=(2*precision_cm_xgbc1*recall_cm_xgbc1)/(precision_cm_xgbc1+recall_cm_xgbc1)\n",
    "print(f\"The f1_score of xgbc1 model using confusion matrix is: {f1_score_cm_xgbc1}.\")\n",
    "print()\n",
    "\n",
    "#Here we find the true positive ratio of xgbc1 model using confusion matrix. \n",
    "tpr_cm_xgbc1=(tp_xgbc1)/(tp_xgbc1+fn_xgbc1)\n",
    "print(f\"The true positive ratio of xgbc1 model using confusion matrix is: {tpr_cm_xgbc1}.\")\n",
    "print()\n",
    "\n",
    "#Here we find the false positive ratio of xgbc1 model using confusion matrix. \n",
    "fpr_cm_xgbc1=(fp_xgbc1)/(fp_xgbc1+tn_xgbc1)\n",
    "print(f\"The false positive ratio of xgbc1 model using confusion matrix is: {fpr_cm_xgbc1}.\")\n",
    "print()\n",
    "\n",
    "#Now here we find the classification report of xgbc1 model.\n",
    "cr_xgbc1=classification_report(y_test,y_pred_xgbc1)\n",
    "print(f\"The classification report of xgbc1 model is: {cr_xgbc1}.\")\n",
    "print()"
   ]
  },
  {
   "cell_type": "markdown",
   "id": "e007462c-5eef-4d7d-8a00-0704fe921d97",
   "metadata": {},
   "source": [
    "#### ----------------------------------------------------------------------------------------------\n",
    "### Conclusion of statistics of dtc1 model.\n",
    "\n",
    "##### As the train acuuracy and test accuracy is very high and difference is very small,so it is best fit model.\n",
    "\n",
    "##### As the error is 13%,precision is 97%,recall is 87.49%,f1_score is 92.16%.\n",
    "\n",
    "##### As the tpr is 87.49% and fpr is 18.66%.\n",
    "\n",
    "#### ------------------------------------------------------------------------------------------------"
   ]
  },
  {
   "cell_type": "code",
   "execution_count": 105,
   "id": "1528c665-ac88-4dbe-ac15-95c24f7e4e82",
   "metadata": {},
   "outputs": [
    {
     "name": "stdout",
     "output_type": "stream",
     "text": [
      "The accuracy of cross validation of xgbc1 model is: 0.857375.\n",
      "The standard deviation of cross validation of xgbc1 model is: 0.006811066362912647.\n",
      "The variance of cross validation of xgbc1 model is: 4.639062500000012e-05.\n"
     ]
    }
   ],
   "source": [
    "#Now here we try the cross validation on xgbc1 model.\n",
    "\n",
    "scores=cross_val_score(estimator=xgbc1,X=x_train_sc,y=y_train,cv=10)\n",
    "\n",
    "print(f\"The accuracy of cross validation of xgbc1 model is: {scores.mean()}.\")\n",
    "\n",
    "print(f\"The standard deviation of cross validation of xgbc1 model is: {scores.std()}.\")\n",
    "\n",
    "print(f\"The variance of cross validation of xgbc1 model is: {scores.var()}.\")"
   ]
  },
  {
   "cell_type": "markdown",
   "id": "5b60a276-508b-47ad-8861-58f38e88cbbd",
   "metadata": {},
   "source": [
    "#### ----------------------------------------------------------------------------------------------\n",
    "### Conclusion of cross validation on lor1 model.\n",
    "\n",
    "##### As the accuracy not increases so much.\n",
    "\n",
    "##### The standard deviation is 0.006.\n",
    "\n",
    "##### The variance is 0.00046.\n",
    "\n",
    "#### ------------------------------------------------------------------------------------------------"
   ]
  },
  {
   "cell_type": "code",
   "execution_count": 106,
   "id": "84b55783-311c-4f91-8971-62184f70c9d0",
   "metadata": {},
   "outputs": [],
   "source": [
    "#Now we save the best model."
   ]
  },
  {
   "cell_type": "markdown",
   "id": "0f3dacea-6493-4f11-9181-3c16d857074e",
   "metadata": {},
   "source": [
    "#### ----------------------------------------------------------------------------------------------\n",
    "### Here we use pickle.\n",
    "\n",
    "##### The pickle library is used to do the serialization and deserialization.\n",
    "\n",
    "##### And we save the model in binary format with the extension (.pkl) .\n",
    "\n",
    "##### As we use two functions of pickle library i.e dump and load.\n",
    "\n",
    "##### Dump function is used when we want to do the serialization or save the model.\n",
    "\n",
    "##### In dump function we always use wb i.e write binary.\n",
    "\n",
    "##### Load function is used when we want to do the deserialization or load the model.\n",
    "\n",
    "##### In load function we always use rb i.e read binary.\n",
    "\n",
    "##### We can also used joblib as replacement of pickle library,which is light weight program."
   ]
  },
  {
   "cell_type": "code",
   "execution_count": 107,
   "id": "bb8df9f2-49d5-4f53-8170-fcb4c7d94a0d",
   "metadata": {},
   "outputs": [],
   "source": [
    "#As rfc1 i.e the random forest model on scaled data is best model,so we saved it.\n",
    "\n",
    "#Now here we save the ,model.\n",
    "\n",
    "pickle.dump(rfc1,open(r\"C:\\sudhanshu_projects\\project-task-training-course\\Customer Churn Prevention Model\\Customer_churn_prediction.pkl\",\"wb\"))"
   ]
  },
  {
   "cell_type": "code",
   "execution_count": 108,
   "id": "152b02df-3a9c-4193-b89a-770ff228d565",
   "metadata": {},
   "outputs": [],
   "source": [
    "#Now we load the saved model.\n",
    "\n",
    "model=pickle.load(open(r\"C:\\sudhanshu_projects\\project-task-training-course\\Customer Churn Prevention Model\\Customer_churn_prediction.pkl\",\"rb\"))"
   ]
  },
  {
   "cell_type": "code",
   "execution_count": 109,
   "id": "ae906134-8bc7-41c0-a4de-427de999dc32",
   "metadata": {},
   "outputs": [
    {
     "data": {
      "text/plain": [
       "0.873"
      ]
     },
     "execution_count": 109,
     "metadata": {},
     "output_type": "execute_result"
    }
   ],
   "source": [
    "#Now we test the loaded model\n",
    "\n",
    "model.score(x_test_sc,y_test)"
   ]
  },
  {
   "cell_type": "code",
   "execution_count": null,
   "id": "66ab5fc6-a142-4563-8e32-8abab27a458a",
   "metadata": {},
   "outputs": [],
   "source": []
  }
 ],
 "metadata": {
  "kernelspec": {
   "display_name": "Python 3 (ipykernel)",
   "language": "python",
   "name": "python3"
  },
  "language_info": {
   "codemirror_mode": {
    "name": "ipython",
    "version": 3
   },
   "file_extension": ".py",
   "mimetype": "text/x-python",
   "name": "python",
   "nbconvert_exporter": "python",
   "pygments_lexer": "ipython3",
   "version": "3.11.4"
  }
 },
 "nbformat": 4,
 "nbformat_minor": 5
}
